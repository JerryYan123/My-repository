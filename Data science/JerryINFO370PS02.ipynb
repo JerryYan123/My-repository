{
 "cells": [
  {
   "cell_type": "markdown",
   "id": "8f74ab78",
   "metadata": {},
   "source": [
    "# 1 Clearning data"
   ]
  },
  {
   "cell_type": "code",
   "execution_count": 114,
   "id": "ecdaee0a",
   "metadata": {},
   "outputs": [
    {
     "data": {
      "text/html": [
       "<div>\n",
       "<style scoped>\n",
       "    .dataframe tbody tr th:only-of-type {\n",
       "        vertical-align: middle;\n",
       "    }\n",
       "\n",
       "    .dataframe tbody tr th {\n",
       "        vertical-align: top;\n",
       "    }\n",
       "\n",
       "    .dataframe thead th {\n",
       "        text-align: right;\n",
       "    }\n",
       "</style>\n",
       "<table border=\"1\" class=\"dataframe\">\n",
       "  <thead>\n",
       "    <tr style=\"text-align: right;\">\n",
       "      <th></th>\n",
       "      <th>iso3</th>\n",
       "      <th>name</th>\n",
       "      <th>iso2</th>\n",
       "      <th>region</th>\n",
       "      <th>sub-region</th>\n",
       "      <th>intermediate-region</th>\n",
       "      <th>time</th>\n",
       "      <th>totalPopulation</th>\n",
       "      <th>fertilityRate</th>\n",
       "      <th>lifeExpectancy</th>\n",
       "      <th>...</th>\n",
       "      <th>accessElectricity</th>\n",
       "      <th>agriculturalLand</th>\n",
       "      <th>agricultureTractors</th>\n",
       "      <th>cerealProduction</th>\n",
       "      <th>fertilizerHa</th>\n",
       "      <th>co2</th>\n",
       "      <th>greenhouseGases</th>\n",
       "      <th>co2_PC</th>\n",
       "      <th>pm2.5_35</th>\n",
       "      <th>battleDeaths</th>\n",
       "    </tr>\n",
       "  </thead>\n",
       "  <tbody>\n",
       "    <tr>\n",
       "      <th>0</th>\n",
       "      <td>ABW</td>\n",
       "      <td>Aruba</td>\n",
       "      <td>AW</td>\n",
       "      <td>Americas</td>\n",
       "      <td>Latin America and the Caribbean</td>\n",
       "      <td>Caribbean</td>\n",
       "      <td>1960.0</td>\n",
       "      <td>54211.0</td>\n",
       "      <td>4.820</td>\n",
       "      <td>65.662</td>\n",
       "      <td>...</td>\n",
       "      <td>NaN</td>\n",
       "      <td>NaN</td>\n",
       "      <td>NaN</td>\n",
       "      <td>NaN</td>\n",
       "      <td>NaN</td>\n",
       "      <td>11092.675</td>\n",
       "      <td>NaN</td>\n",
       "      <td>204.62037</td>\n",
       "      <td>NaN</td>\n",
       "      <td>NaN</td>\n",
       "    </tr>\n",
       "    <tr>\n",
       "      <th>1</th>\n",
       "      <td>ABW</td>\n",
       "      <td>Aruba</td>\n",
       "      <td>AW</td>\n",
       "      <td>Americas</td>\n",
       "      <td>Latin America and the Caribbean</td>\n",
       "      <td>Caribbean</td>\n",
       "      <td>1961.0</td>\n",
       "      <td>55438.0</td>\n",
       "      <td>4.655</td>\n",
       "      <td>66.074</td>\n",
       "      <td>...</td>\n",
       "      <td>NaN</td>\n",
       "      <td>20.0</td>\n",
       "      <td>NaN</td>\n",
       "      <td>NaN</td>\n",
       "      <td>NaN</td>\n",
       "      <td>11576.719</td>\n",
       "      <td>NaN</td>\n",
       "      <td>208.82281</td>\n",
       "      <td>NaN</td>\n",
       "      <td>NaN</td>\n",
       "    </tr>\n",
       "    <tr>\n",
       "      <th>2</th>\n",
       "      <td>ABW</td>\n",
       "      <td>Aruba</td>\n",
       "      <td>AW</td>\n",
       "      <td>Americas</td>\n",
       "      <td>Latin America and the Caribbean</td>\n",
       "      <td>Caribbean</td>\n",
       "      <td>1962.0</td>\n",
       "      <td>56225.0</td>\n",
       "      <td>4.471</td>\n",
       "      <td>66.444</td>\n",
       "      <td>...</td>\n",
       "      <td>NaN</td>\n",
       "      <td>20.0</td>\n",
       "      <td>NaN</td>\n",
       "      <td>NaN</td>\n",
       "      <td>NaN</td>\n",
       "      <td>12713.489</td>\n",
       "      <td>NaN</td>\n",
       "      <td>226.11808</td>\n",
       "      <td>NaN</td>\n",
       "      <td>NaN</td>\n",
       "    </tr>\n",
       "    <tr>\n",
       "      <th>3</th>\n",
       "      <td>ABW</td>\n",
       "      <td>Aruba</td>\n",
       "      <td>AW</td>\n",
       "      <td>Americas</td>\n",
       "      <td>Latin America and the Caribbean</td>\n",
       "      <td>Caribbean</td>\n",
       "      <td>1963.0</td>\n",
       "      <td>56695.0</td>\n",
       "      <td>4.271</td>\n",
       "      <td>66.787</td>\n",
       "      <td>...</td>\n",
       "      <td>NaN</td>\n",
       "      <td>20.0</td>\n",
       "      <td>NaN</td>\n",
       "      <td>NaN</td>\n",
       "      <td>NaN</td>\n",
       "      <td>12178.107</td>\n",
       "      <td>NaN</td>\n",
       "      <td>214.80037</td>\n",
       "      <td>NaN</td>\n",
       "      <td>NaN</td>\n",
       "    </tr>\n",
       "    <tr>\n",
       "      <th>4</th>\n",
       "      <td>ABW</td>\n",
       "      <td>Aruba</td>\n",
       "      <td>AW</td>\n",
       "      <td>Americas</td>\n",
       "      <td>Latin America and the Caribbean</td>\n",
       "      <td>Caribbean</td>\n",
       "      <td>1964.0</td>\n",
       "      <td>57032.0</td>\n",
       "      <td>4.059</td>\n",
       "      <td>67.113</td>\n",
       "      <td>...</td>\n",
       "      <td>NaN</td>\n",
       "      <td>20.0</td>\n",
       "      <td>NaN</td>\n",
       "      <td>NaN</td>\n",
       "      <td>NaN</td>\n",
       "      <td>11840.743</td>\n",
       "      <td>NaN</td>\n",
       "      <td>207.61578</td>\n",
       "      <td>NaN</td>\n",
       "      <td>NaN</td>\n",
       "    </tr>\n",
       "  </tbody>\n",
       "</table>\n",
       "<p>5 rows × 25 columns</p>\n",
       "</div>"
      ],
      "text/plain": [
       "  iso3   name iso2    region                       sub-region  \\\n",
       "0  ABW  Aruba   AW  Americas  Latin America and the Caribbean   \n",
       "1  ABW  Aruba   AW  Americas  Latin America and the Caribbean   \n",
       "2  ABW  Aruba   AW  Americas  Latin America and the Caribbean   \n",
       "3  ABW  Aruba   AW  Americas  Latin America and the Caribbean   \n",
       "4  ABW  Aruba   AW  Americas  Latin America and the Caribbean   \n",
       "\n",
       "  intermediate-region    time  totalPopulation  fertilityRate  lifeExpectancy  \\\n",
       "0           Caribbean  1960.0          54211.0          4.820          65.662   \n",
       "1           Caribbean  1961.0          55438.0          4.655          66.074   \n",
       "2           Caribbean  1962.0          56225.0          4.471          66.444   \n",
       "3           Caribbean  1963.0          56695.0          4.271          66.787   \n",
       "4           Caribbean  1964.0          57032.0          4.059          67.113   \n",
       "\n",
       "   ...  accessElectricity  agriculturalLand  agricultureTractors  \\\n",
       "0  ...                NaN               NaN                  NaN   \n",
       "1  ...                NaN              20.0                  NaN   \n",
       "2  ...                NaN              20.0                  NaN   \n",
       "3  ...                NaN              20.0                  NaN   \n",
       "4  ...                NaN              20.0                  NaN   \n",
       "\n",
       "   cerealProduction  fertilizerHa        co2  greenhouseGases     co2_PC  \\\n",
       "0               NaN           NaN  11092.675              NaN  204.62037   \n",
       "1               NaN           NaN  11576.719              NaN  208.82281   \n",
       "2               NaN           NaN  12713.489              NaN  226.11808   \n",
       "3               NaN           NaN  12178.107              NaN  214.80037   \n",
       "4               NaN           NaN  11840.743              NaN  207.61578   \n",
       "\n",
       "   pm2.5_35  battleDeaths  \n",
       "0       NaN           NaN  \n",
       "1       NaN           NaN  \n",
       "2       NaN           NaN  \n",
       "3       NaN           NaN  \n",
       "4       NaN           NaN  \n",
       "\n",
       "[5 rows x 25 columns]"
      ]
     },
     "execution_count": 114,
     "metadata": {},
     "output_type": "execute_result"
    }
   ],
   "source": [
    "#1.1\n",
    "import pandas as pd\n",
    "import numpy as np\n",
    "\n",
    "df = pd.read_csv('/Users/yanjiarui/desktop/INFO370/gapminder.csv.bz2', sep='\\t')\n",
    "df.head()"
   ]
  },
  {
   "cell_type": "code",
   "execution_count": 115,
   "id": "1d8884a9",
   "metadata": {},
   "outputs": [],
   "source": [
    "rows, columns = df.shape"
   ]
  },
  {
   "cell_type": "code",
   "execution_count": 116,
   "id": "7010b3a0",
   "metadata": {},
   "outputs": [
    {
     "name": "stdout",
     "output_type": "stream",
     "text": [
      "13055 25\n"
     ]
    }
   ],
   "source": [
    "#1.2 \n",
    "print(rows, columns)"
   ]
  },
  {
   "cell_type": "code",
   "execution_count": 117,
   "id": "3283f807",
   "metadata": {},
   "outputs": [
    {
     "data": {
      "text/plain": [
       "iso3                   13055\n",
       "name                   12815\n",
       "iso2                   12755\n",
       "region                 12814\n",
       "sub-region             12814\n",
       "intermediate-region     5358\n",
       "time                   13019\n",
       "totalPopulation        12979\n",
       "fertilityRate          11748\n",
       "lifeExpectancy         11730\n",
       "childMortality         10455\n",
       "youthFemaleLiteracy      921\n",
       "youthMaleLiteracy        921\n",
       "adultLiteracy            937\n",
       "GDP_PC                  9470\n",
       "accessElectricity       5447\n",
       "agriculturalLand       11145\n",
       "agricultureTractors     6108\n",
       "cerealProduction        9449\n",
       "fertilizerHa            8126\n",
       "co2                    10397\n",
       "greenhouseGases         8061\n",
       "co2_PC                 10394\n",
       "pm2.5_35                2328\n",
       "battleDeaths            1004\n",
       "dtype: int64"
      ]
     },
     "execution_count": 117,
     "metadata": {},
     "output_type": "execute_result"
    }
   ],
   "source": [
    "# 1.3\n",
    "df.count()"
   ]
  },
  {
   "cell_type": "markdown",
   "id": "272cf161",
   "metadata": {},
   "source": [
    "iso3, name, iso2, region, sub-region, time, population look pretty good. The literacy for female male and adult are nealy unusable for having too less valid values"
   ]
  },
  {
   "cell_type": "code",
   "execution_count": 118,
   "id": "ecae5164",
   "metadata": {},
   "outputs": [
    {
     "data": {
      "text/html": [
       "<div>\n",
       "<style scoped>\n",
       "    .dataframe tbody tr th:only-of-type {\n",
       "        vertical-align: middle;\n",
       "    }\n",
       "\n",
       "    .dataframe tbody tr th {\n",
       "        vertical-align: top;\n",
       "    }\n",
       "\n",
       "    .dataframe thead th {\n",
       "        text-align: right;\n",
       "    }\n",
       "</style>\n",
       "<table border=\"1\" class=\"dataframe\">\n",
       "  <thead>\n",
       "    <tr style=\"text-align: right;\">\n",
       "      <th></th>\n",
       "      <th>name</th>\n",
       "      <th>iso2</th>\n",
       "      <th>totalPopulation</th>\n",
       "    </tr>\n",
       "  </thead>\n",
       "  <tbody>\n",
       "    <tr>\n",
       "      <th>180</th>\n",
       "      <td>Anguilla</td>\n",
       "      <td>AI</td>\n",
       "      <td>NaN</td>\n",
       "    </tr>\n",
       "    <tr>\n",
       "      <th>181</th>\n",
       "      <td>Åland Islands</td>\n",
       "      <td>AX</td>\n",
       "      <td>NaN</td>\n",
       "    </tr>\n",
       "    <tr>\n",
       "      <th>542</th>\n",
       "      <td>Antarctica</td>\n",
       "      <td>AQ</td>\n",
       "      <td>NaN</td>\n",
       "    </tr>\n",
       "    <tr>\n",
       "      <th>543</th>\n",
       "      <td>French Southern Territories</td>\n",
       "      <td>TF</td>\n",
       "      <td>NaN</td>\n",
       "    </tr>\n",
       "    <tr>\n",
       "      <th>964</th>\n",
       "      <td>Bonaire, Sint Eustatius and Saba</td>\n",
       "      <td>BQ</td>\n",
       "      <td>NaN</td>\n",
       "    </tr>\n",
       "    <tr>\n",
       "      <th>1325</th>\n",
       "      <td>Saint Barthélemy</td>\n",
       "      <td>BL</td>\n",
       "      <td>NaN</td>\n",
       "    </tr>\n",
       "    <tr>\n",
       "      <th>1806</th>\n",
       "      <td>Bouvet Island</td>\n",
       "      <td>BV</td>\n",
       "      <td>NaN</td>\n",
       "    </tr>\n",
       "    <tr>\n",
       "      <th>1987</th>\n",
       "      <td>Cocos (Keeling) Islands</td>\n",
       "      <td>CC</td>\n",
       "      <td>NaN</td>\n",
       "    </tr>\n",
       "    <tr>\n",
       "      <th>2468</th>\n",
       "      <td>Cook Islands</td>\n",
       "      <td>CK</td>\n",
       "      <td>NaN</td>\n",
       "    </tr>\n",
       "    <tr>\n",
       "      <th>2769</th>\n",
       "      <td>Curaçao</td>\n",
       "      <td>CW</td>\n",
       "      <td>NaN</td>\n",
       "    </tr>\n",
       "    <tr>\n",
       "      <th>2770</th>\n",
       "      <td>Christmas Island</td>\n",
       "      <td>CX</td>\n",
       "      <td>NaN</td>\n",
       "    </tr>\n",
       "    <tr>\n",
       "      <th>3491</th>\n",
       "      <td>Western Sahara</td>\n",
       "      <td>EH</td>\n",
       "      <td>NaN</td>\n",
       "    </tr>\n",
       "    <tr>\n",
       "      <th>3792</th>\n",
       "      <td>Falkland Islands (Malvinas)</td>\n",
       "      <td>FK</td>\n",
       "      <td>NaN</td>\n",
       "    </tr>\n",
       "    <tr>\n",
       "      <th>4213</th>\n",
       "      <td>Guernsey</td>\n",
       "      <td>GG</td>\n",
       "      <td>NaN</td>\n",
       "    </tr>\n",
       "    <tr>\n",
       "      <th>4394</th>\n",
       "      <td>Guadeloupe</td>\n",
       "      <td>GP</td>\n",
       "      <td>NaN</td>\n",
       "    </tr>\n",
       "    <tr>\n",
       "      <th>4815</th>\n",
       "      <td>French Guiana</td>\n",
       "      <td>GF</td>\n",
       "      <td>NaN</td>\n",
       "    </tr>\n",
       "    <tr>\n",
       "      <th>4996</th>\n",
       "      <td>Heard Island and McDonald Islands</td>\n",
       "      <td>HM</td>\n",
       "      <td>NaN</td>\n",
       "    </tr>\n",
       "    <tr>\n",
       "      <th>5297</th>\n",
       "      <td>Isle of Man</td>\n",
       "      <td>IM</td>\n",
       "      <td>NaN</td>\n",
       "    </tr>\n",
       "    <tr>\n",
       "      <th>5358</th>\n",
       "      <td>British Indian Ocean Territory</td>\n",
       "      <td>IO</td>\n",
       "      <td>NaN</td>\n",
       "    </tr>\n",
       "    <tr>\n",
       "      <th>5779</th>\n",
       "      <td>Jersey</td>\n",
       "      <td>JE</td>\n",
       "      <td>NaN</td>\n",
       "    </tr>\n",
       "    <tr>\n",
       "      <th>8180</th>\n",
       "      <td>Montserrat</td>\n",
       "      <td>MS</td>\n",
       "      <td>NaN</td>\n",
       "    </tr>\n",
       "    <tr>\n",
       "      <th>8181</th>\n",
       "      <td>Martinique</td>\n",
       "      <td>MQ</td>\n",
       "      <td>NaN</td>\n",
       "    </tr>\n",
       "    <tr>\n",
       "      <th>8362</th>\n",
       "      <td>Mayotte</td>\n",
       "      <td>YT</td>\n",
       "      <td>NaN</td>\n",
       "    </tr>\n",
       "    <tr>\n",
       "      <th>8543</th>\n",
       "      <td>Norfolk Island</td>\n",
       "      <td>NF</td>\n",
       "      <td>NaN</td>\n",
       "    </tr>\n",
       "    <tr>\n",
       "      <th>8664</th>\n",
       "      <td>Niue</td>\n",
       "      <td>NU</td>\n",
       "      <td>NaN</td>\n",
       "    </tr>\n",
       "    <tr>\n",
       "      <th>9205</th>\n",
       "      <td>Pitcairn</td>\n",
       "      <td>PN</td>\n",
       "      <td>NaN</td>\n",
       "    </tr>\n",
       "    <tr>\n",
       "      <th>9925</th>\n",
       "      <td>Réunion</td>\n",
       "      <td>RE</td>\n",
       "      <td>NaN</td>\n",
       "    </tr>\n",
       "    <tr>\n",
       "      <th>10346</th>\n",
       "      <td>South Georgia and the South Sandwich Islands</td>\n",
       "      <td>GS</td>\n",
       "      <td>NaN</td>\n",
       "    </tr>\n",
       "    <tr>\n",
       "      <th>10347</th>\n",
       "      <td>Saint Helena, Ascension and Tristan da Cunha</td>\n",
       "      <td>SH</td>\n",
       "      <td>NaN</td>\n",
       "    </tr>\n",
       "    <tr>\n",
       "      <th>10348</th>\n",
       "      <td>Svalbard and Jan Mayen</td>\n",
       "      <td>SJ</td>\n",
       "      <td>NaN</td>\n",
       "    </tr>\n",
       "    <tr>\n",
       "      <th>10649</th>\n",
       "      <td>Saint Pierre and Miquelon</td>\n",
       "      <td>PM</td>\n",
       "      <td>NaN</td>\n",
       "    </tr>\n",
       "    <tr>\n",
       "      <th>11610</th>\n",
       "      <td>Tokelau</td>\n",
       "      <td>TK</td>\n",
       "      <td>NaN</td>\n",
       "    </tr>\n",
       "    <tr>\n",
       "      <th>12031</th>\n",
       "      <td>Taiwan, Province of China</td>\n",
       "      <td>TW</td>\n",
       "      <td>NaN</td>\n",
       "    </tr>\n",
       "    <tr>\n",
       "      <th>12212</th>\n",
       "      <td>United States Minor Outlying Islands</td>\n",
       "      <td>UM</td>\n",
       "      <td>NaN</td>\n",
       "    </tr>\n",
       "    <tr>\n",
       "      <th>12393</th>\n",
       "      <td>Holy See</td>\n",
       "      <td>VA</td>\n",
       "      <td>NaN</td>\n",
       "    </tr>\n",
       "    <tr>\n",
       "      <th>12754</th>\n",
       "      <td>Wallis and Futuna</td>\n",
       "      <td>WF</td>\n",
       "      <td>NaN</td>\n",
       "    </tr>\n",
       "  </tbody>\n",
       "</table>\n",
       "</div>"
      ],
      "text/plain": [
       "                                               name iso2  totalPopulation\n",
       "180                                        Anguilla   AI              NaN\n",
       "181                                   Åland Islands   AX              NaN\n",
       "542                                      Antarctica   AQ              NaN\n",
       "543                     French Southern Territories   TF              NaN\n",
       "964                Bonaire, Sint Eustatius and Saba   BQ              NaN\n",
       "1325                               Saint Barthélemy   BL              NaN\n",
       "1806                                  Bouvet Island   BV              NaN\n",
       "1987                        Cocos (Keeling) Islands   CC              NaN\n",
       "2468                                   Cook Islands   CK              NaN\n",
       "2769                                        Curaçao   CW              NaN\n",
       "2770                               Christmas Island   CX              NaN\n",
       "3491                                 Western Sahara   EH              NaN\n",
       "3792                    Falkland Islands (Malvinas)   FK              NaN\n",
       "4213                                       Guernsey   GG              NaN\n",
       "4394                                     Guadeloupe   GP              NaN\n",
       "4815                                  French Guiana   GF              NaN\n",
       "4996              Heard Island and McDonald Islands   HM              NaN\n",
       "5297                                    Isle of Man   IM              NaN\n",
       "5358                 British Indian Ocean Territory   IO              NaN\n",
       "5779                                         Jersey   JE              NaN\n",
       "8180                                     Montserrat   MS              NaN\n",
       "8181                                     Martinique   MQ              NaN\n",
       "8362                                        Mayotte   YT              NaN\n",
       "8543                                 Norfolk Island   NF              NaN\n",
       "8664                                           Niue   NU              NaN\n",
       "9205                                       Pitcairn   PN              NaN\n",
       "9925                                        Réunion   RE              NaN\n",
       "10346  South Georgia and the South Sandwich Islands   GS              NaN\n",
       "10347  Saint Helena, Ascension and Tristan da Cunha   SH              NaN\n",
       "10348                        Svalbard and Jan Mayen   SJ              NaN\n",
       "10649                     Saint Pierre and Miquelon   PM              NaN\n",
       "11610                                       Tokelau   TK              NaN\n",
       "12031                     Taiwan, Province of China   TW              NaN\n",
       "12212          United States Minor Outlying Islands   UM              NaN\n",
       "12393                                      Holy See   VA              NaN\n",
       "12754                             Wallis and Futuna   WF              NaN"
      ]
     },
     "execution_count": 118,
     "metadata": {},
     "output_type": "execute_result"
    }
   ],
   "source": [
    "#1.4\n",
    "df[df.time.isna()][['name', 'iso2', 'totalPopulation']]"
   ]
  },
  {
   "cell_type": "markdown",
   "id": "24f3411f",
   "metadata": {},
   "source": [
    "1.5 I think the observations are missing porbably because the populations are missing. These rows are incompleted."
   ]
  },
  {
   "cell_type": "code",
   "execution_count": 119,
   "id": "4bd329f7",
   "metadata": {},
   "outputs": [
    {
     "name": "stdout",
     "output_type": "stream",
     "text": [
      "0\n"
     ]
    }
   ],
   "source": [
    "# 1.6\n",
    "nameMissing = len(df[(df.name.isna()) & (~df.iso2.isna())][['name', 'iso2']])\n",
    "iso2Missing = len(df[(~df.name.isna()) & (df.iso2.isna())][['name', 'iso2']])\n",
    "print(nameMissing)"
   ]
  },
  {
   "cell_type": "code",
   "execution_count": 120,
   "id": "cdaef527",
   "metadata": {},
   "outputs": [
    {
     "name": "stdout",
     "output_type": "stream",
     "text": [
      "60\n"
     ]
    }
   ],
   "source": [
    "print(iso2Missing)"
   ]
  },
  {
   "cell_type": "code",
   "execution_count": 121,
   "id": "8efd6b21",
   "metadata": {},
   "outputs": [
    {
     "data": {
      "text/html": [
       "<div>\n",
       "<style scoped>\n",
       "    .dataframe tbody tr th:only-of-type {\n",
       "        vertical-align: middle;\n",
       "    }\n",
       "\n",
       "    .dataframe tbody tr th {\n",
       "        vertical-align: top;\n",
       "    }\n",
       "\n",
       "    .dataframe thead th {\n",
       "        text-align: right;\n",
       "    }\n",
       "</style>\n",
       "<table border=\"1\" class=\"dataframe\">\n",
       "  <thead>\n",
       "    <tr style=\"text-align: right;\">\n",
       "      <th></th>\n",
       "      <th>name</th>\n",
       "      <th>iso2</th>\n",
       "    </tr>\n",
       "  </thead>\n",
       "  <tbody>\n",
       "    <tr>\n",
       "      <th>8363</th>\n",
       "      <td>Namibia</td>\n",
       "      <td>NaN</td>\n",
       "    </tr>\n",
       "    <tr>\n",
       "      <th>8364</th>\n",
       "      <td>Namibia</td>\n",
       "      <td>NaN</td>\n",
       "    </tr>\n",
       "    <tr>\n",
       "      <th>8365</th>\n",
       "      <td>Namibia</td>\n",
       "      <td>NaN</td>\n",
       "    </tr>\n",
       "    <tr>\n",
       "      <th>8366</th>\n",
       "      <td>Namibia</td>\n",
       "      <td>NaN</td>\n",
       "    </tr>\n",
       "    <tr>\n",
       "      <th>8367</th>\n",
       "      <td>Namibia</td>\n",
       "      <td>NaN</td>\n",
       "    </tr>\n",
       "  </tbody>\n",
       "</table>\n",
       "</div>"
      ],
      "text/plain": [
       "         name iso2\n",
       "8363  Namibia  NaN\n",
       "8364  Namibia  NaN\n",
       "8365  Namibia  NaN\n",
       "8366  Namibia  NaN\n",
       "8367  Namibia  NaN"
      ]
     },
     "execution_count": 121,
     "metadata": {},
     "output_type": "execute_result"
    }
   ],
   "source": [
    "#1.7\n",
    "df[(~df.name.isna()) & (df.iso2.isna())][['name', 'iso2']].head()"
   ]
  },
  {
   "cell_type": "markdown",
   "id": "b26c3c5c",
   "metadata": {},
   "source": [
    "The two letter country code for Namibia is NA, according to https://en.wikipedia.org/wiki/ISO_3166-2:NA. I guess the system might wrongly recognize NA as np.nan."
   ]
  },
  {
   "cell_type": "code",
   "execution_count": 257,
   "id": "537cb6ca",
   "metadata": {},
   "outputs": [
    {
     "name": "stdout",
     "output_type": "stream",
     "text": [
      "253\n"
     ]
    }
   ],
   "source": [
    "# 1.8\n",
    "countries = len(df.groupby('iso3'))\n",
    "print(countries)"
   ]
  },
  {
   "cell_type": "code",
   "execution_count": 123,
   "id": "bb657400",
   "metadata": {},
   "outputs": [
    {
     "name": "stdout",
     "output_type": "stream",
     "text": [
      "1960.0\n"
     ]
    }
   ],
   "source": [
    "# 1.9\n",
    "earliest = df.time.min()\n",
    "print(earliest)"
   ]
  },
  {
   "cell_type": "code",
   "execution_count": 124,
   "id": "76ef981e",
   "metadata": {},
   "outputs": [
    {
     "name": "stdout",
     "output_type": "stream",
     "text": [
      "2019.0\n"
     ]
    }
   ],
   "source": [
    "mostRecent = df.time.max()\n",
    "print(mostRecent)"
   ]
  },
  {
   "cell_type": "markdown",
   "id": "85fc7224",
   "metadata": {},
   "source": [
    "# 2 Wealth"
   ]
  },
  {
   "cell_type": "code",
   "execution_count": 125,
   "id": "f72e256b",
   "metadata": {},
   "outputs": [
    {
     "name": "stdout",
     "output_type": "stream",
     "text": [
      "2019.0\n"
     ]
    }
   ],
   "source": [
    "#2.1\n",
    "mostRecentwithGDP = df[(~df.GDP_PC.isna())].time.max()\n",
    "print(mostRecentwithGDP)"
   ]
  },
  {
   "cell_type": "code",
   "execution_count": 138,
   "id": "7f650f81",
   "metadata": {},
   "outputs": [
    {
     "name": "stdout",
     "output_type": "stream",
     "text": [
      "15055.352217243239\n"
     ]
    }
   ],
   "source": [
    "#2.2\n",
    "average_GDP = df[df['time'] == 2019].GDP_PC.mean()\n",
    "print(average_GDP)"
   ]
  },
  {
   "cell_type": "code",
   "execution_count": 139,
   "id": "76b936ba",
   "metadata": {},
   "outputs": [
    {
     "data": {
      "text/plain": [
       "name\n",
       "Afghanistan       2019.0\n",
       "Albania           2019.0\n",
       "Algeria           2019.0\n",
       "American Samoa    2018.0\n",
       "Andorra           2019.0\n",
       "Name: time, dtype: float64"
      ]
     },
     "execution_count": 139,
     "metadata": {},
     "output_type": "execute_result"
    }
   ],
   "source": [
    "#2.3\n",
    "lastYear = df[~df.GDP_PC.isna()].groupby('name').time.max()\n",
    "lastYear.head()"
   ]
  },
  {
   "cell_type": "code",
   "execution_count": 140,
   "id": "3bb43826",
   "metadata": {},
   "outputs": [
    {
     "data": {
      "text/plain": [
       "name\n",
       "Djibouti                    2010.0\n",
       "Faroe Islands               2010.0\n",
       "Liechtenstein               2010.0\n",
       "Turks and Caicos Islands    2010.0\n",
       "Eritrea                     2011.0\n",
       "Name: time, dtype: float64"
      ]
     },
     "execution_count": 140,
     "metadata": {},
     "output_type": "execute_result"
    }
   ],
   "source": [
    "#2.4\n",
    "lastYear.nsmallest()"
   ]
  },
  {
   "cell_type": "code",
   "execution_count": 143,
   "id": "3c08b9d2",
   "metadata": {},
   "outputs": [
    {
     "data": {
      "text/plain": [
       "region\n",
       "Europe      33227.983767\n",
       "Americas    14516.826303\n",
       "Asia        14116.124163\n",
       "Oceania     11817.735554\n",
       "Africa       2765.708956\n",
       "Name: GDP_PC, dtype: float64"
      ]
     },
     "execution_count": 143,
     "metadata": {},
     "output_type": "execute_result"
    }
   ],
   "source": [
    "df[(df['time'] == 2019)].groupby('region').GDP_PC.mean().sort_values(ascending=False)"
   ]
  },
  {
   "cell_type": "markdown",
   "id": "d0b8616f",
   "metadata": {},
   "source": [
    "I think this order is not very reasonable. There are lots of missing GDP per capita data during 2019, which can potentially change or affact the order."
   ]
  },
  {
   "cell_type": "markdown",
   "id": "f127d184",
   "metadata": {},
   "source": [
    "# 3 Description Stats"
   ]
  },
  {
   "cell_type": "code",
   "execution_count": 148,
   "id": "f45ceb71",
   "metadata": {},
   "outputs": [
    {
     "name": "stdout",
     "output_type": "stream",
     "text": [
      "153.34393 33362.70762 1751.86291 5050.295039780219\n"
     ]
    }
   ],
   "source": [
    "#3.1\n",
    "df_1960 = df[df['time'] == 1960]\n",
    "min1960 = df_1960.GDP_PC.min()\n",
    "max1960 = df_1960.GDP_PC.max()\n",
    "median1960 = df_1960.GDP_PC.median()\n",
    "mean1960 = df_1960.GDP_PC.mean()\n",
    "\n",
    "\n",
    "print(min1960, max1960, median1960, mean1960)"
   ]
  },
  {
   "cell_type": "code",
   "execution_count": 149,
   "id": "a599347d",
   "metadata": {},
   "outputs": [
    {
     "name": "stdout",
     "output_type": "stream",
     "text": [
      "208.07473 111043.5317 5922.52759 15055.352217243239\n"
     ]
    }
   ],
   "source": [
    "#3.1\n",
    "df_2019 = df[df['time'] == 2019]\n",
    "min2019 = df_2019.GDP_PC.min()\n",
    "max2019 = df_2019.GDP_PC.max()\n",
    "median2019 = df_2019.GDP_PC.median()\n",
    "mean2019 = df_2019.GDP_PC.mean()\n",
    "\n",
    "print(min2019, max2019, median2019, mean2019)"
   ]
  },
  {
   "cell_type": "markdown",
   "id": "6b157e76",
   "metadata": {},
   "source": [
    "3.2\n",
    "The world has become rich, with a prominent increment of the median, mean data shown above. However, it seems like there are still inequal gdp. For example, the min gdp increased from 153 to 208, while the max from around 33362 to 111043. The difference of the changing ratio is large. While the range of the gdp (max - min) became even larger shows it is not pretty equal."
   ]
  },
  {
   "cell_type": "code",
   "execution_count": 163,
   "id": "fb01091b",
   "metadata": {},
   "outputs": [
    {
     "data": {
      "image/png": "[encoded data removed]",
      "text/plain": [
       "<Figure size 640x480 with 1 Axes>"
      ]
     },
     "metadata": {},
     "output_type": "display_data"
    }
   ],
   "source": [
    "#3.3\n",
    "import matplotlib.pyplot as plt\n",
    "\n",
    "x1960 = df[df['time'] == 1960].GDP_PC\n",
    "plt.hist(x1960, bins=20)\n",
    "plt.ylabel('countries')\n",
    "plt.xlabel('gdp per capita')\n",
    "plt.show()"
   ]
  },
  {
   "cell_type": "code",
   "execution_count": 164,
   "id": "bc4fc29f",
   "metadata": {},
   "outputs": [
    {
     "data": {
      "image/png": "[encoded data removed]",
      "text/plain": [
       "<Figure size 640x480 with 1 Axes>"
      ]
     },
     "metadata": {},
     "output_type": "display_data"
    }
   ],
   "source": [
    "x2019 = df[df['time'] == 2019].GDP_PC\n",
    "plt.hist(x2019, bins=20)\n",
    "plt.ylabel('countries')\n",
    "plt.xlabel('gdp per capita')\n",
    "plt.show()"
   ]
  },
  {
   "cell_type": "markdown",
   "id": "7eb5d467",
   "metadata": {},
   "source": [
    "3.4\n",
    "These two graphs have similar distribution, lots of countries within the range of the relative low gdp per capita. Although the max of the gdp has increased a lot, the distribution kept same, and the number of countries within the low range even increased. This means there are still lots of countries relatively poor."
   ]
  },
  {
   "cell_type": "code",
   "execution_count": 184,
   "id": "c82c7913",
   "metadata": {},
   "outputs": [
    {
     "name": "stdout",
     "output_type": "stream",
     "text": [
      "1.6407327096953084\n"
     ]
    }
   ],
   "source": [
    "#3.5\n",
    "ratio_df1960 = df[(~df.GDP_PC.isna()) & (df.time == 1960)]\n",
    "S80 = ratio_df1960[ratio_df1960.GDP_PC > np.percentile(ratio_df.GDP_PC, 80)].GDP_PC.sum()\n",
    "S20 = ratio_df1960[ratio_df1960.GDP_PC < np.percentile(ratio_df.GDP_PC, 20)].GDP_PC.sum()\n",
    "quintileShare = S80/S20\n",
    "\n",
    "print(quintileShare)"
   ]
  },
  {
   "cell_type": "code",
   "execution_count": 190,
   "id": "4f27966c",
   "metadata": {},
   "outputs": [
    {
     "name": "stdout",
     "output_type": "stream",
     "text": [
      "57.22513517688509\n"
     ]
    }
   ],
   "source": [
    "ratio_df2019 = df[(~df.GDP_PC.isna()) & (df.time == 2019)]\n",
    "S80 = ratio_df2019[ratio_df2019.GDP_PC > np.percentile(ratio_df.GDP_PC, 80)].GDP_PC.sum()\n",
    "S20 = ratio_df2019[ratio_df2019.GDP_PC < np.percentile(ratio_df.GDP_PC, 20)].GDP_PC.sum()\n",
    "quintileShare = S80/S20\n",
    "\n",
    "print(quintileShare)"
   ]
  },
  {
   "cell_type": "markdown",
   "id": "32a7e6ec",
   "metadata": {},
   "source": [
    "The inequality measured by quintile share ratio is continuely increasing. From 1.64 to 57.22 means there is a lot increment over these 60 years. Quintile share ratio measures the value held by the top 20% people over the poor 20% people. The difference between the rich and poor increased a lot."
   ]
  },
  {
   "cell_type": "code",
   "execution_count": 265,
   "id": "78a8501d",
   "metadata": {},
   "outputs": [
    {
     "data": {
      "text/plain": [
       "0.6500732412589996"
      ]
     },
     "execution_count": 265,
     "metadata": {},
     "output_type": "execute_result"
    }
   ],
   "source": [
    "#3.6\n",
    "ratio_df1960[ratio_df1960.GDP_PC > np.percentile(ratio_df.GDP_PC, 65)].GDP_PC.sum() / ratio_df1960.GDP_PC.sum()"
   ]
  },
  {
   "cell_type": "code",
   "execution_count": 266,
   "id": "1135b6b0",
   "metadata": {},
   "outputs": [
    {
     "data": {
      "text/plain": [
       "0.7461229092173639"
      ]
     },
     "execution_count": 266,
     "metadata": {},
     "output_type": "execute_result"
    }
   ],
   "source": [
    "ratio_df2019[ratio_df2019.GDP_PC > np.percentile(ratio_df.GDP_PC, 74.5)].GDP_PC.sum() / ratio_df2019.GDP_PC.sum()"
   ]
  },
  {
   "cell_type": "markdown",
   "id": "aa025be9",
   "metadata": {},
   "source": [
    "The conclusion is similar to the previous one. The Pareto ratio represent x% people manage the (100 - x)% asset. During 1960, 35 percent of rich people manage the 65 percent of wealth, and this increased at 2019 while only 25 percent of the rich people manage 75 percent of people."
   ]
  },
  {
   "cell_type": "markdown",
   "id": "ace941b4",
   "metadata": {},
   "source": [
    "3.7\n",
    "These data use calculation to precisely tell how the rich people increased the managment of the world wealth. The difference between the poor and rich is significantly increased from different way of measures."
   ]
  },
  {
   "cell_type": "markdown",
   "id": "56b59cbf",
   "metadata": {},
   "source": [
    "# 4 Health"
   ]
  },
  {
   "cell_type": "code",
   "execution_count": 196,
   "id": "86e0d09b",
   "metadata": {},
   "outputs": [
    {
     "name": "stdout",
     "output_type": "stream",
     "text": [
      "104\n"
     ]
    }
   ],
   "source": [
    "#4.1\n",
    "noCM1960 = len(df[(df['time'] == 1960) & (df.childMortality.isna())])\n",
    "noCM2019 = len(df[(df['time'] == 2019) & (df.childMortality.isna())])\n",
    "print(noCM1960)"
   ]
  },
  {
   "cell_type": "code",
   "execution_count": 197,
   "id": "4c83b6fa",
   "metadata": {},
   "outputs": [
    {
     "name": "stdout",
     "output_type": "stream",
     "text": [
      "24\n"
     ]
    }
   ],
   "source": [
    "print(noCM2019)"
   ]
  },
  {
   "cell_type": "markdown",
   "id": "52f900c8",
   "metadata": {},
   "source": [
    "The data did improve over time from 104 missing to 24 missing."
   ]
  },
  {
   "cell_type": "code",
   "execution_count": 203,
   "id": "4f0fd45a",
   "metadata": {},
   "outputs": [
    {
     "data": {
      "text/plain": [
       "1.7"
      ]
     },
     "execution_count": 203,
     "metadata": {},
     "output_type": "execute_result"
    }
   ],
   "source": [
    "#4.2\n",
    "df.childMortality.min()"
   ]
  },
  {
   "cell_type": "code",
   "execution_count": 199,
   "id": "3b8a5bac",
   "metadata": {},
   "outputs": [
    {
     "data": {
      "text/plain": [
       "420.6"
      ]
     },
     "execution_count": 199,
     "metadata": {},
     "output_type": "execute_result"
    }
   ],
   "source": [
    "df.childMortality.max()"
   ]
  },
  {
   "cell_type": "code",
   "execution_count": 207,
   "id": "0b994326",
   "metadata": {},
   "outputs": [
    {
     "data": {
      "text/html": [
       "<div>\n",
       "<style scoped>\n",
       "    .dataframe tbody tr th:only-of-type {\n",
       "        vertical-align: middle;\n",
       "    }\n",
       "\n",
       "    .dataframe tbody tr th {\n",
       "        vertical-align: top;\n",
       "    }\n",
       "\n",
       "    .dataframe thead th {\n",
       "        text-align: right;\n",
       "    }\n",
       "</style>\n",
       "<table border=\"1\" class=\"dataframe\">\n",
       "  <thead>\n",
       "    <tr style=\"text-align: right;\">\n",
       "      <th></th>\n",
       "      <th>time</th>\n",
       "      <th>name</th>\n",
       "      <th>childMortality</th>\n",
       "    </tr>\n",
       "  </thead>\n",
       "  <tbody>\n",
       "    <tr>\n",
       "      <th>10587</th>\n",
       "      <td>2018.0</td>\n",
       "      <td>San Marino</td>\n",
       "      <td>1.7</td>\n",
       "    </tr>\n",
       "    <tr>\n",
       "      <th>10588</th>\n",
       "      <td>2019.0</td>\n",
       "      <td>San Marino</td>\n",
       "      <td>1.7</td>\n",
       "    </tr>\n",
       "  </tbody>\n",
       "</table>\n",
       "</div>"
      ],
      "text/plain": [
       "         time        name  childMortality\n",
       "10587  2018.0  San Marino             1.7\n",
       "10588  2019.0  San Marino             1.7"
      ]
     },
     "execution_count": 207,
     "metadata": {},
     "output_type": "execute_result"
    }
   ],
   "source": [
    "#4.3\n",
    "df[df.childMortality == df.childMortality.min()][['time', 'name', 'childMortality']]"
   ]
  },
  {
   "cell_type": "code",
   "execution_count": 206,
   "id": "c3f6d79a",
   "metadata": {},
   "outputs": [
    {
     "data": {
      "text/html": [
       "<div>\n",
       "<style scoped>\n",
       "    .dataframe tbody tr th:only-of-type {\n",
       "        vertical-align: middle;\n",
       "    }\n",
       "\n",
       "    .dataframe tbody tr th {\n",
       "        vertical-align: top;\n",
       "    }\n",
       "\n",
       "    .dataframe thead th {\n",
       "        text-align: right;\n",
       "    }\n",
       "</style>\n",
       "<table border=\"1\" class=\"dataframe\">\n",
       "  <thead>\n",
       "    <tr style=\"text-align: right;\">\n",
       "      <th></th>\n",
       "      <th>time</th>\n",
       "      <th>name</th>\n",
       "      <th>childMortality</th>\n",
       "    </tr>\n",
       "  </thead>\n",
       "  <tbody>\n",
       "    <tr>\n",
       "      <th>7703</th>\n",
       "      <td>1963.0</td>\n",
       "      <td>Mali</td>\n",
       "      <td>420.6</td>\n",
       "    </tr>\n",
       "  </tbody>\n",
       "</table>\n",
       "</div>"
      ],
      "text/plain": [
       "        time  name  childMortality\n",
       "7703  1963.0  Mali           420.6"
      ]
     },
     "execution_count": 206,
     "metadata": {},
     "output_type": "execute_result"
    }
   ],
   "source": [
    "df[df.childMortality == df.childMortality.max()][['time', 'name', 'childMortality']]"
   ]
  },
  {
   "cell_type": "code",
   "execution_count": 212,
   "id": "d085c74e",
   "metadata": {},
   "outputs": [
    {
     "data": {
      "text/html": [
       "<div>\n",
       "<style scoped>\n",
       "    .dataframe tbody tr th:only-of-type {\n",
       "        vertical-align: middle;\n",
       "    }\n",
       "\n",
       "    .dataframe tbody tr th {\n",
       "        vertical-align: top;\n",
       "    }\n",
       "\n",
       "    .dataframe thead th {\n",
       "        text-align: right;\n",
       "    }\n",
       "</style>\n",
       "<table border=\"1\" class=\"dataframe\">\n",
       "  <thead>\n",
       "    <tr style=\"text-align: right;\">\n",
       "      <th></th>\n",
       "      <th>name</th>\n",
       "    </tr>\n",
       "  </thead>\n",
       "  <tbody>\n",
       "    <tr>\n",
       "      <th>8603</th>\n",
       "      <td>Nigeria</td>\n",
       "    </tr>\n",
       "    <tr>\n",
       "      <th>5176</th>\n",
       "      <td>Haiti</td>\n",
       "    </tr>\n",
       "    <tr>\n",
       "      <th>9144</th>\n",
       "      <td>Pakistan</td>\n",
       "    </tr>\n",
       "    <tr>\n",
       "      <th>7399</th>\n",
       "      <td>Moldova, Republic of</td>\n",
       "    </tr>\n",
       "    <tr>\n",
       "      <th>6199</th>\n",
       "      <td>Kiribati</td>\n",
       "    </tr>\n",
       "  </tbody>\n",
       "</table>\n",
       "</div>"
      ],
      "text/plain": [
       "                      name\n",
       "8603               Nigeria\n",
       "5176                 Haiti\n",
       "9144              Pakistan\n",
       "7399  Moldova, Republic of\n",
       "6199              Kiribati"
      ]
     },
     "execution_count": 212,
     "metadata": {},
     "output_type": "execute_result"
    }
   ],
   "source": [
    "indexmax = df[df['time'] == 2019].groupby('region').childMortality.idxmax()\n",
    "df.iloc[indexmax][['name']]"
   ]
  },
  {
   "cell_type": "code",
   "execution_count": 213,
   "id": "b091b93d",
   "metadata": {},
   "outputs": [
    {
     "data": {
      "text/html": [
       "<div>\n",
       "<style scoped>\n",
       "    .dataframe tbody tr th:only-of-type {\n",
       "        vertical-align: middle;\n",
       "    }\n",
       "\n",
       "    .dataframe tbody tr th {\n",
       "        vertical-align: top;\n",
       "    }\n",
       "\n",
       "    .dataframe thead th {\n",
       "        text-align: right;\n",
       "    }\n",
       "</style>\n",
       "<table border=\"1\" class=\"dataframe\">\n",
       "  <thead>\n",
       "    <tr style=\"text-align: right;\">\n",
       "      <th></th>\n",
       "      <th>name</th>\n",
       "    </tr>\n",
       "  </thead>\n",
       "  <tbody>\n",
       "    <tr>\n",
       "      <th>6679</th>\n",
       "      <td>Libya</td>\n",
       "    </tr>\n",
       "    <tr>\n",
       "      <th>1986</th>\n",
       "      <td>Canada</td>\n",
       "    </tr>\n",
       "    <tr>\n",
       "      <th>2890</th>\n",
       "      <td>Cyprus</td>\n",
       "    </tr>\n",
       "    <tr>\n",
       "      <th>10588</th>\n",
       "      <td>San Marino</td>\n",
       "    </tr>\n",
       "    <tr>\n",
       "      <th>663</th>\n",
       "      <td>Australia</td>\n",
       "    </tr>\n",
       "  </tbody>\n",
       "</table>\n",
       "</div>"
      ],
      "text/plain": [
       "             name\n",
       "6679        Libya\n",
       "1986       Canada\n",
       "2890       Cyprus\n",
       "10588  San Marino\n",
       "663     Australia"
      ]
     },
     "execution_count": 213,
     "metadata": {},
     "output_type": "execute_result"
    }
   ],
   "source": [
    "indexmin = df[df['time'] == 2019].groupby('region').childMortality.idxmin()\n",
    "df.iloc[indexmin][['name']]"
   ]
  },
  {
   "cell_type": "markdown",
   "id": "c80d82da",
   "metadata": {},
   "source": [
    "# 5 Graphical Analysis"
   ]
  },
  {
   "cell_type": "code",
   "execution_count": 222,
   "id": "1b86a11f",
   "metadata": {},
   "outputs": [
    {
     "data": {
      "text/plain": [
       "name    Nigeria\n",
       "Name: 8603, dtype: object"
      ]
     },
     "execution_count": 222,
     "metadata": {},
     "output_type": "execute_result"
    }
   ],
   "source": [
    "df.iloc[df[df['time'] == 2019].childMortality.idxmax()][['name']]"
   ]
  },
  {
   "cell_type": "code",
   "execution_count": 223,
   "id": "f4bc8c4a",
   "metadata": {},
   "outputs": [
    {
     "data": {
      "text/plain": [
       "name    San Marino\n",
       "Name: 10588, dtype: object"
      ]
     },
     "execution_count": 223,
     "metadata": {},
     "output_type": "execute_result"
    }
   ],
   "source": [
    "df.iloc[df[df['time'] == 2019].childMortality.idxmin()][['name']]"
   ]
  },
  {
   "cell_type": "code",
   "execution_count": 259,
   "id": "c1e25164",
   "metadata": {},
   "outputs": [
    {
     "data": {
      "image/png": "[encoded data removed]",
      "text/plain": [
       "<Figure size 640x480 with 1 Axes>"
      ]
     },
     "metadata": {},
     "output_type": "display_data"
    }
   ],
   "source": [
    "import seaborn as sns\n",
    "\n",
    "sns.lineplot(x=\"time\", y=\"childMortality\", style=\"name\",\n",
    "                    data=df[(df.name == \"Nigeria\") | (df.name == \"San Marino\") |\n",
    "                           (df.name == \"Turkey\") | (df.name == \"China\") | (df.name == \"Algeria\")])\n",
    "plt.show()"
   ]
  },
  {
   "cell_type": "markdown",
   "id": "19c92dff",
   "metadata": {},
   "source": [
    "It is pretty clear that the child mortality is decreasing over time. Expect Nigeria, with the highest child mortality among globle, it is still higher than others. For Algeria, China, San Marion, the mortality is decreasing over time. Turkey, the lowest child mortality country, is keeping a low rate. There is possibility that due to the missing data before 1985 Turkey is the lowest child mortality country."
   ]
  },
  {
   "cell_type": "code",
   "execution_count": null,
   "id": "5e8fd04d",
   "metadata": {},
   "outputs": [],
   "source": []
  }
 ],
 "metadata": {
  "kernelspec": {
   "display_name": "Python 3 (ipykernel)",
   "language": "python",
   "name": "python3"
  },
  "language_info": {
   "codemirror_mode": {
    "name": "ipython",
    "version": 3
   },
   "file_extension": ".py",
   "mimetype": "text/x-python",
   "name": "python",
   "nbconvert_exporter": "python",
   "pygments_lexer": "ipython3",
   "version": "3.8.13"
  }
 },
 "nbformat": 4,
 "nbformat_minor": 5
}
