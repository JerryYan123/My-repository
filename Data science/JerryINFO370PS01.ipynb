{
 "cells": [
  {
   "cell_type": "code",
   "execution_count": 41,
   "id": "d6949a51",
   "metadata": {},
   "outputs": [
    {
     "name": "stdout",
     "output_type": "stream",
     "text": [
      "31536000\n"
     ]
    }
   ],
   "source": [
    "# 1 Base python\n",
    "sec = 60 * 60 * 24 * 365\n",
    "print(sec)"
   ]
  },
  {
   "cell_type": "code",
   "execution_count": 42,
   "id": "fa067336",
   "metadata": {},
   "outputs": [
    {
     "name": "stdout",
     "output_type": "stream",
     "text": [
      "2365200000\n"
     ]
    }
   ],
   "source": [
    "lifeTime = sec * 75\n",
    "print(lifeTime)"
   ]
  },
  {
   "cell_type": "code",
   "execution_count": 43,
   "id": "295dbba7",
   "metadata": {},
   "outputs": [
    {
     "name": "stdout",
     "output_type": "stream",
     "text": [
      "630720000\n"
     ]
    }
   ],
   "source": [
    "myAge = sec * 20\n",
    "print(myAge)"
   ]
  },
  {
   "cell_type": "code",
   "execution_count": 44,
   "id": "93fac978",
   "metadata": {},
   "outputs": [
    {
     "name": "stdout",
     "output_type": "stream",
     "text": [
      "False\n"
     ]
    }
   ],
   "source": [
    "print(myAge > 700000000)"
   ]
  },
  {
   "cell_type": "code",
   "execution_count": 45,
   "id": "e571bbac",
   "metadata": {},
   "outputs": [
    {
     "name": "stdout",
     "output_type": "stream",
     "text": [
      "0.24\n"
     ]
    }
   ],
   "source": [
    "Computing51 = 0.4 * (1 - 0.4)\n",
    "print(Computing51)"
   ]
  },
  {
   "cell_type": "code",
   "execution_count": 46,
   "id": "41ae21b2",
   "metadata": {},
   "outputs": [
    {
     "name": "stdout",
     "output_type": "stream",
     "text": [
      "0.058527663465935076\n"
     ]
    }
   ],
   "source": [
    "Computing52 = (3 / 2) * (1 + 2.5 / 2) ** -4\n",
    "print(Computing52)"
   ]
  },
  {
   "cell_type": "code",
   "execution_count": 47,
   "id": "936a7d91",
   "metadata": {},
   "outputs": [
    {
     "name": "stdout",
     "output_type": "stream",
     "text": [
      "['The Shawshank Redemption', 'The Godfather', 'The Dark Knight', 'The Godfather Part II', '12 Angry Men', \"Schindler's List\"]\n"
     ]
    }
   ],
   "source": [
    "l1:list = [\"The Shawshank Redemption\", \"The Godfather\", \"The Dark Knight\", \"The Godfather Part II\", \"12 Angry Men\", \"Schindler's List\"]\n",
    "print(l1)"
   ]
  },
  {
   "cell_type": "code",
   "execution_count": 48,
   "id": "b8f73ab9",
   "metadata": {},
   "outputs": [
    {
     "name": "stdout",
     "output_type": "stream",
     "text": [
      "['The Shawshank Redemption', 'The Godfather', 'The Dark Knight']\n"
     ]
    }
   ],
   "source": [
    "l2 = l1[:3]\n",
    "print(l2)"
   ]
  },
  {
   "cell_type": "code",
   "execution_count": 49,
   "id": "27bf92df",
   "metadata": {},
   "outputs": [
    {
     "name": "stdout",
     "output_type": "stream",
     "text": [
      "['The Shawshank Redemption', 'The Godfather', '12 Angry Men', \"Schindler's List\"]\n"
     ]
    }
   ],
   "source": [
    "l3 = l1[:2] + l1[4:]\n",
    "print(l3)"
   ]
  },
  {
   "cell_type": "code",
   "execution_count": 50,
   "id": "fc0f4dab",
   "metadata": {},
   "outputs": [
    {
     "name": "stdout",
     "output_type": "stream",
     "text": [
      "[\"Schindler's List\", '12 Angry Men', 'The Godfather Part II', 'The Dark Knight', 'The Godfather', 'The Shawshank Redemption']\n"
     ]
    }
   ],
   "source": [
    "l4 = l1[::-1]\n",
    "print(l4)"
   ]
  },
  {
   "cell_type": "code",
   "execution_count": 51,
   "id": "3d5c3ec8",
   "metadata": {},
   "outputs": [
    {
     "name": "stdout",
     "output_type": "stream",
     "text": [
      "[70, 71, 72, 73, 74, 75, 76, 77, 78, 79]\n"
     ]
    }
   ],
   "source": [
    "looplist:list = []\n",
    "for i in range(70,80):\n",
    "    looplist.append(i)\n",
    "print(looplist)"
   ]
  },
  {
   "cell_type": "code",
   "execution_count": 52,
   "id": "b8caea87",
   "metadata": {},
   "outputs": [
    {
     "name": "stdout",
     "output_type": "stream",
     "text": [
      "74.5\n"
     ]
    }
   ],
   "source": [
    "result = 0\n",
    "count = 0\n",
    "for i in looplist:\n",
    "    result += i\n",
    "    count += 1\n",
    "print(result/count)"
   ]
  },
  {
   "cell_type": "code",
   "execution_count": 53,
   "id": "95d934de",
   "metadata": {},
   "outputs": [
    {
     "name": "stdout",
     "output_type": "stream",
     "text": [
      "5050\n"
     ]
    }
   ],
   "source": [
    "result = 0\n",
    "for i in range(101):\n",
    "    result += i\n",
    "print(result)"
   ]
  },
  {
   "cell_type": "code",
   "execution_count": 54,
   "id": "d95c6faf",
   "metadata": {},
   "outputs": [
    {
     "name": "stdout",
     "output_type": "stream",
     "text": [
      "Adam: 33\n",
      "Ashin: 12\n",
      "Inukai: 45\n",
      "Tanaka: 2\n",
      "Ikki: 17\n"
     ]
    }
   ],
   "source": [
    "name = [\"Adam\", \"Ashin\", \"Inukai\", \"Tanaka\", \"Ikki\"]\n",
    "number = [\"33\", \"12\", \"45\", \"2\", \"17\"]\n",
    "for i in range(5):\n",
    "    print(name[i] + \": \" + number[i])"
   ]
  },
  {
   "cell_type": "code",
   "execution_count": 55,
   "id": "8303aea9",
   "metadata": {},
   "outputs": [
    {
     "name": "stdout",
     "output_type": "stream",
     "text": [
      "{'maps': 1, 'are': 3, 'data': 2, 'structures': 2, 'that': 1, 'contain': 1, 'key-value': 1, 'pairs.': 1, 'the': 3, 'python': 1, 'versions': 1, 'called': 1, 'dicts.': 1, 'such': 1, 'often': 1, 'used': 1, 'to': 3, 'assign': 1, 'names': 1, 'values': 1, 'in': 1, 'data,': 1, 'or': 1, 'create': 2, 'complex': 1, 'structures.': 1, 'syntax': 1, 'is': 1, 'following:': 1, '{key1:value1,': 1, 'key2:value2,': 1, '...}.': 1, 'for': 1, 'instance,': 1, 'we': 1, 'can': 1, 'a': 1, 'dict': 1, 'of': 2, 'squares': 1, 'numbers:': 1}\n"
     ]
    }
   ],
   "source": [
    "text = \"Maps are data structures that contain key-value pairs. The python versions are called dicts. Such structures are often used to assign names to values in data, or to create complex data structures. The syntax is the following: {key1:value1, key2:value2, ...}. For instance, we can create a dict of squares of numbers:\"\n",
    "text = text.lower()\n",
    "text = text.split()\n",
    "wordCount = {}\n",
    "for i in text:\n",
    "    if i not in wordCount:\n",
    "        wordCount[i] = 1\n",
    "    else:\n",
    "        wordCount[i] += 1\n",
    "print(wordCount)"
   ]
  },
  {
   "cell_type": "code",
   "execution_count": 56,
   "id": "b12ff980",
   "metadata": {},
   "outputs": [],
   "source": [
    "def timeCal(x:int) -> int:\n",
    "    result = x // 100 + 0.01 * (x % 100) * 5 / 3\n",
    "    return result"
   ]
  },
  {
   "cell_type": "code",
   "execution_count": 57,
   "id": "e3bb3553",
   "metadata": {},
   "outputs": [
    {
     "name": "stdout",
     "output_type": "stream",
     "text": [
      "10.25\n"
     ]
    }
   ],
   "source": [
    "print(timeCal(1015))"
   ]
  },
  {
   "cell_type": "code",
   "execution_count": 58,
   "id": "d6308a94",
   "metadata": {},
   "outputs": [],
   "source": [
    "# 2 Basic data frames"
   ]
  },
  {
   "cell_type": "code",
   "execution_count": 59,
   "id": "cbeb9376",
   "metadata": {},
   "outputs": [],
   "source": [
    "import pandas as pd\n",
    "\n",
    "df = pd.read_csv('/Users/yanjiarui/desktop/INFO370/nycflights13.csv.bz2', sep='\\t')"
   ]
  },
  {
   "cell_type": "code",
   "execution_count": 60,
   "id": "d87cfb21",
   "metadata": {},
   "outputs": [
    {
     "data": {
      "text/plain": [
       "19"
      ]
     },
     "execution_count": 60,
     "metadata": {},
     "output_type": "execute_result"
    }
   ],
   "source": [
    "len(df.columns)"
   ]
  },
  {
   "cell_type": "code",
   "execution_count": 61,
   "id": "82f60c90",
   "metadata": {},
   "outputs": [
    {
     "data": {
      "text/plain": [
       "336776"
      ]
     },
     "execution_count": 61,
     "metadata": {},
     "output_type": "execute_result"
    }
   ],
   "source": [
    "len(df)"
   ]
  },
  {
   "cell_type": "code",
   "execution_count": 62,
   "id": "14ed2b08",
   "metadata": {},
   "outputs": [
    {
     "data": {
      "text/html": [
       "<div>\n",
       "<style scoped>\n",
       "    .dataframe tbody tr th:only-of-type {\n",
       "        vertical-align: middle;\n",
       "    }\n",
       "\n",
       "    .dataframe tbody tr th {\n",
       "        vertical-align: top;\n",
       "    }\n",
       "\n",
       "    .dataframe thead th {\n",
       "        text-align: right;\n",
       "    }\n",
       "</style>\n",
       "<table border=\"1\" class=\"dataframe\">\n",
       "  <thead>\n",
       "    <tr style=\"text-align: right;\">\n",
       "      <th></th>\n",
       "      <th>year</th>\n",
       "      <th>month</th>\n",
       "      <th>day</th>\n",
       "      <th>dep_time</th>\n",
       "      <th>sched_dep_time</th>\n",
       "      <th>dep_delay</th>\n",
       "      <th>arr_time</th>\n",
       "      <th>sched_arr_time</th>\n",
       "      <th>arr_delay</th>\n",
       "      <th>carrier</th>\n",
       "      <th>flight</th>\n",
       "      <th>tailnum</th>\n",
       "      <th>origin</th>\n",
       "      <th>dest</th>\n",
       "      <th>air_time</th>\n",
       "      <th>distance</th>\n",
       "      <th>hour</th>\n",
       "      <th>minute</th>\n",
       "      <th>time_hour</th>\n",
       "    </tr>\n",
       "  </thead>\n",
       "  <tbody>\n",
       "    <tr>\n",
       "      <th>0</th>\n",
       "      <td>2013</td>\n",
       "      <td>1</td>\n",
       "      <td>1</td>\n",
       "      <td>517.0</td>\n",
       "      <td>515</td>\n",
       "      <td>2.0</td>\n",
       "      <td>830.0</td>\n",
       "      <td>819</td>\n",
       "      <td>11.0</td>\n",
       "      <td>UA</td>\n",
       "      <td>1545</td>\n",
       "      <td>N14228</td>\n",
       "      <td>EWR</td>\n",
       "      <td>IAH</td>\n",
       "      <td>227.0</td>\n",
       "      <td>1400</td>\n",
       "      <td>5</td>\n",
       "      <td>15</td>\n",
       "      <td>2013-01-01T10:00:00Z</td>\n",
       "    </tr>\n",
       "    <tr>\n",
       "      <th>1</th>\n",
       "      <td>2013</td>\n",
       "      <td>1</td>\n",
       "      <td>1</td>\n",
       "      <td>533.0</td>\n",
       "      <td>529</td>\n",
       "      <td>4.0</td>\n",
       "      <td>850.0</td>\n",
       "      <td>830</td>\n",
       "      <td>20.0</td>\n",
       "      <td>UA</td>\n",
       "      <td>1714</td>\n",
       "      <td>N24211</td>\n",
       "      <td>LGA</td>\n",
       "      <td>IAH</td>\n",
       "      <td>227.0</td>\n",
       "      <td>1416</td>\n",
       "      <td>5</td>\n",
       "      <td>29</td>\n",
       "      <td>2013-01-01T10:00:00Z</td>\n",
       "    </tr>\n",
       "    <tr>\n",
       "      <th>2</th>\n",
       "      <td>2013</td>\n",
       "      <td>1</td>\n",
       "      <td>1</td>\n",
       "      <td>542.0</td>\n",
       "      <td>540</td>\n",
       "      <td>2.0</td>\n",
       "      <td>923.0</td>\n",
       "      <td>850</td>\n",
       "      <td>33.0</td>\n",
       "      <td>AA</td>\n",
       "      <td>1141</td>\n",
       "      <td>N619AA</td>\n",
       "      <td>JFK</td>\n",
       "      <td>MIA</td>\n",
       "      <td>160.0</td>\n",
       "      <td>1089</td>\n",
       "      <td>5</td>\n",
       "      <td>40</td>\n",
       "      <td>2013-01-01T10:00:00Z</td>\n",
       "    </tr>\n",
       "    <tr>\n",
       "      <th>3</th>\n",
       "      <td>2013</td>\n",
       "      <td>1</td>\n",
       "      <td>1</td>\n",
       "      <td>544.0</td>\n",
       "      <td>545</td>\n",
       "      <td>-1.0</td>\n",
       "      <td>1004.0</td>\n",
       "      <td>1022</td>\n",
       "      <td>-18.0</td>\n",
       "      <td>B6</td>\n",
       "      <td>725</td>\n",
       "      <td>N804JB</td>\n",
       "      <td>JFK</td>\n",
       "      <td>BQN</td>\n",
       "      <td>183.0</td>\n",
       "      <td>1576</td>\n",
       "      <td>5</td>\n",
       "      <td>45</td>\n",
       "      <td>2013-01-01T10:00:00Z</td>\n",
       "    </tr>\n",
       "    <tr>\n",
       "      <th>4</th>\n",
       "      <td>2013</td>\n",
       "      <td>1</td>\n",
       "      <td>1</td>\n",
       "      <td>554.0</td>\n",
       "      <td>600</td>\n",
       "      <td>-6.0</td>\n",
       "      <td>812.0</td>\n",
       "      <td>837</td>\n",
       "      <td>-25.0</td>\n",
       "      <td>DL</td>\n",
       "      <td>461</td>\n",
       "      <td>N668DN</td>\n",
       "      <td>LGA</td>\n",
       "      <td>ATL</td>\n",
       "      <td>116.0</td>\n",
       "      <td>762</td>\n",
       "      <td>6</td>\n",
       "      <td>0</td>\n",
       "      <td>2013-01-01T11:00:00Z</td>\n",
       "    </tr>\n",
       "  </tbody>\n",
       "</table>\n",
       "</div>"
      ],
      "text/plain": [
       "   year  month  day  dep_time  sched_dep_time  dep_delay  arr_time  \\\n",
       "0  2013      1    1     517.0             515        2.0     830.0   \n",
       "1  2013      1    1     533.0             529        4.0     850.0   \n",
       "2  2013      1    1     542.0             540        2.0     923.0   \n",
       "3  2013      1    1     544.0             545       -1.0    1004.0   \n",
       "4  2013      1    1     554.0             600       -6.0     812.0   \n",
       "\n",
       "   sched_arr_time  arr_delay carrier  flight tailnum origin dest  air_time  \\\n",
       "0             819       11.0      UA    1545  N14228    EWR  IAH     227.0   \n",
       "1             830       20.0      UA    1714  N24211    LGA  IAH     227.0   \n",
       "2             850       33.0      AA    1141  N619AA    JFK  MIA     160.0   \n",
       "3            1022      -18.0      B6     725  N804JB    JFK  BQN     183.0   \n",
       "4             837      -25.0      DL     461  N668DN    LGA  ATL     116.0   \n",
       "\n",
       "   distance  hour  minute             time_hour  \n",
       "0      1400     5      15  2013-01-01T10:00:00Z  \n",
       "1      1416     5      29  2013-01-01T10:00:00Z  \n",
       "2      1089     5      40  2013-01-01T10:00:00Z  \n",
       "3      1576     5      45  2013-01-01T10:00:00Z  \n",
       "4       762     6       0  2013-01-01T11:00:00Z  "
      ]
     },
     "execution_count": 62,
     "metadata": {},
     "output_type": "execute_result"
    }
   ],
   "source": [
    "df.head()"
   ]
  },
  {
   "cell_type": "markdown",
   "id": "ddf9545a",
   "metadata": {},
   "source": [
    "It looks pretty reasonable. The time, carrier, flight, origin and dest, distance, are great.\n",
    "The units of the dep time and arr time are not clear, by reading through the documentation, they are in HHMM or HMM form. The hour and minute seems to be wrong time."
   ]
  },
  {
   "cell_type": "code",
   "execution_count": 63,
   "id": "10b71e7e",
   "metadata": {},
   "outputs": [
    {
     "data": {
      "text/plain": [
       "3"
      ]
     },
     "execution_count": 63,
     "metadata": {},
     "output_type": "execute_result"
    }
   ],
   "source": [
    "df['origin'].nunique()"
   ]
  },
  {
   "cell_type": "code",
   "execution_count": 64,
   "id": "6c95967a",
   "metadata": {},
   "outputs": [
    {
     "name": "stdout",
     "output_type": "stream",
     "text": [
      "['EWR' 'LGA' 'JFK']\n"
     ]
    }
   ],
   "source": [
    "print(df['origin'].unique())"
   ]
  },
  {
   "cell_type": "markdown",
   "id": "97396434",
   "metadata": {},
   "source": [
    "There are three airports in NYC: ['EWR' 'LGA' 'JFK']"
   ]
  },
  {
   "cell_type": "code",
   "execution_count": 65,
   "id": "5d103c53",
   "metadata": {},
   "outputs": [
    {
     "data": {
      "text/plain": [
       "105"
      ]
     },
     "execution_count": 65,
     "metadata": {},
     "output_type": "execute_result"
    }
   ],
   "source": [
    "len(pd.unique(df[df['year'] == 2013]['dest']))"
   ]
  },
  {
   "cell_type": "markdown",
   "id": "c29bc7d6",
   "metadata": {},
   "source": [
    "There are 105 airports did the airlines fly form NYC in 2013"
   ]
  },
  {
   "cell_type": "code",
   "execution_count": 66,
   "id": "658aa9be",
   "metadata": {},
   "outputs": [
    {
     "data": {
      "text/plain": [
       "3923"
      ]
     },
     "execution_count": 66,
     "metadata": {},
     "output_type": "execute_result"
    }
   ],
   "source": [
    "len(df[df['dest'] == 'SEA'])"
   ]
  },
  {
   "cell_type": "markdown",
   "id": "971fcdcb",
   "metadata": {},
   "source": [
    "There are 3923 flights were from NYC to Seattle"
   ]
  },
  {
   "cell_type": "code",
   "execution_count": 67,
   "id": "b4ee1e79",
   "metadata": {},
   "outputs": [
    {
     "data": {
      "text/plain": [
       "0"
      ]
     },
     "execution_count": 67,
     "metadata": {},
     "output_type": "execute_result"
    }
   ],
   "source": [
    "len(df[df['dest'] == 'GEG'])"
   ]
  },
  {
   "cell_type": "markdown",
   "id": "eeec22f2",
   "metadata": {},
   "source": [
    "There aren't any flights from NYC to Spokane"
   ]
  },
  {
   "cell_type": "code",
   "execution_count": 68,
   "id": "e7f51b59",
   "metadata": {},
   "outputs": [
    {
     "data": {
      "text/html": [
       "<div>\n",
       "<style scoped>\n",
       "    .dataframe tbody tr th:only-of-type {\n",
       "        vertical-align: middle;\n",
       "    }\n",
       "\n",
       "    .dataframe tbody tr th {\n",
       "        vertical-align: top;\n",
       "    }\n",
       "\n",
       "    .dataframe thead th {\n",
       "        text-align: right;\n",
       "    }\n",
       "</style>\n",
       "<table border=\"1\" class=\"dataframe\">\n",
       "  <thead>\n",
       "    <tr style=\"text-align: right;\">\n",
       "      <th></th>\n",
       "      <th>year</th>\n",
       "      <th>month</th>\n",
       "      <th>day</th>\n",
       "      <th>dep_time</th>\n",
       "      <th>sched_dep_time</th>\n",
       "      <th>dep_delay</th>\n",
       "      <th>arr_time</th>\n",
       "      <th>sched_arr_time</th>\n",
       "      <th>arr_delay</th>\n",
       "      <th>carrier</th>\n",
       "      <th>flight</th>\n",
       "      <th>tailnum</th>\n",
       "      <th>origin</th>\n",
       "      <th>dest</th>\n",
       "      <th>air_time</th>\n",
       "      <th>distance</th>\n",
       "      <th>hour</th>\n",
       "      <th>minute</th>\n",
       "      <th>time_hour</th>\n",
       "      <th>duration_in_hours</th>\n",
       "    </tr>\n",
       "  </thead>\n",
       "  <tbody>\n",
       "    <tr>\n",
       "      <th>0</th>\n",
       "      <td>2013</td>\n",
       "      <td>1</td>\n",
       "      <td>1</td>\n",
       "      <td>517.0</td>\n",
       "      <td>515</td>\n",
       "      <td>2.0</td>\n",
       "      <td>830.0</td>\n",
       "      <td>819</td>\n",
       "      <td>11.0</td>\n",
       "      <td>UA</td>\n",
       "      <td>1545</td>\n",
       "      <td>N14228</td>\n",
       "      <td>EWR</td>\n",
       "      <td>IAH</td>\n",
       "      <td>227.0</td>\n",
       "      <td>1400</td>\n",
       "      <td>5</td>\n",
       "      <td>15</td>\n",
       "      <td>2013-01-01T10:00:00Z</td>\n",
       "      <td>3.216667</td>\n",
       "    </tr>\n",
       "    <tr>\n",
       "      <th>1</th>\n",
       "      <td>2013</td>\n",
       "      <td>1</td>\n",
       "      <td>1</td>\n",
       "      <td>533.0</td>\n",
       "      <td>529</td>\n",
       "      <td>4.0</td>\n",
       "      <td>850.0</td>\n",
       "      <td>830</td>\n",
       "      <td>20.0</td>\n",
       "      <td>UA</td>\n",
       "      <td>1714</td>\n",
       "      <td>N24211</td>\n",
       "      <td>LGA</td>\n",
       "      <td>IAH</td>\n",
       "      <td>227.0</td>\n",
       "      <td>1416</td>\n",
       "      <td>5</td>\n",
       "      <td>29</td>\n",
       "      <td>2013-01-01T10:00:00Z</td>\n",
       "      <td>3.283333</td>\n",
       "    </tr>\n",
       "    <tr>\n",
       "      <th>2</th>\n",
       "      <td>2013</td>\n",
       "      <td>1</td>\n",
       "      <td>1</td>\n",
       "      <td>542.0</td>\n",
       "      <td>540</td>\n",
       "      <td>2.0</td>\n",
       "      <td>923.0</td>\n",
       "      <td>850</td>\n",
       "      <td>33.0</td>\n",
       "      <td>AA</td>\n",
       "      <td>1141</td>\n",
       "      <td>N619AA</td>\n",
       "      <td>JFK</td>\n",
       "      <td>MIA</td>\n",
       "      <td>160.0</td>\n",
       "      <td>1089</td>\n",
       "      <td>5</td>\n",
       "      <td>40</td>\n",
       "      <td>2013-01-01T10:00:00Z</td>\n",
       "      <td>3.683333</td>\n",
       "    </tr>\n",
       "    <tr>\n",
       "      <th>3</th>\n",
       "      <td>2013</td>\n",
       "      <td>1</td>\n",
       "      <td>1</td>\n",
       "      <td>544.0</td>\n",
       "      <td>545</td>\n",
       "      <td>-1.0</td>\n",
       "      <td>1004.0</td>\n",
       "      <td>1022</td>\n",
       "      <td>-18.0</td>\n",
       "      <td>B6</td>\n",
       "      <td>725</td>\n",
       "      <td>N804JB</td>\n",
       "      <td>JFK</td>\n",
       "      <td>BQN</td>\n",
       "      <td>183.0</td>\n",
       "      <td>1576</td>\n",
       "      <td>5</td>\n",
       "      <td>45</td>\n",
       "      <td>2013-01-01T10:00:00Z</td>\n",
       "      <td>4.333333</td>\n",
       "    </tr>\n",
       "    <tr>\n",
       "      <th>4</th>\n",
       "      <td>2013</td>\n",
       "      <td>1</td>\n",
       "      <td>1</td>\n",
       "      <td>554.0</td>\n",
       "      <td>600</td>\n",
       "      <td>-6.0</td>\n",
       "      <td>812.0</td>\n",
       "      <td>837</td>\n",
       "      <td>-25.0</td>\n",
       "      <td>DL</td>\n",
       "      <td>461</td>\n",
       "      <td>N668DN</td>\n",
       "      <td>LGA</td>\n",
       "      <td>ATL</td>\n",
       "      <td>116.0</td>\n",
       "      <td>762</td>\n",
       "      <td>6</td>\n",
       "      <td>0</td>\n",
       "      <td>2013-01-01T11:00:00Z</td>\n",
       "      <td>2.300000</td>\n",
       "    </tr>\n",
       "  </tbody>\n",
       "</table>\n",
       "</div>"
      ],
      "text/plain": [
       "   year  month  day  dep_time  sched_dep_time  dep_delay  arr_time  \\\n",
       "0  2013      1    1     517.0             515        2.0     830.0   \n",
       "1  2013      1    1     533.0             529        4.0     850.0   \n",
       "2  2013      1    1     542.0             540        2.0     923.0   \n",
       "3  2013      1    1     544.0             545       -1.0    1004.0   \n",
       "4  2013      1    1     554.0             600       -6.0     812.0   \n",
       "\n",
       "   sched_arr_time  arr_delay carrier  flight tailnum origin dest  air_time  \\\n",
       "0             819       11.0      UA    1545  N14228    EWR  IAH     227.0   \n",
       "1             830       20.0      UA    1714  N24211    LGA  IAH     227.0   \n",
       "2             850       33.0      AA    1141  N619AA    JFK  MIA     160.0   \n",
       "3            1022      -18.0      B6     725  N804JB    JFK  BQN     183.0   \n",
       "4             837      -25.0      DL     461  N668DN    LGA  ATL     116.0   \n",
       "\n",
       "   distance  hour  minute             time_hour  duration_in_hours  \n",
       "0      1400     5      15  2013-01-01T10:00:00Z           3.216667  \n",
       "1      1416     5      29  2013-01-01T10:00:00Z           3.283333  \n",
       "2      1089     5      40  2013-01-01T10:00:00Z           3.683333  \n",
       "3      1576     5      45  2013-01-01T10:00:00Z           4.333333  \n",
       "4       762     6       0  2013-01-01T11:00:00Z           2.300000  "
      ]
     },
     "execution_count": 68,
     "metadata": {},
     "output_type": "execute_result"
    }
   ],
   "source": [
    "df = df.copy()\n",
    "df['duration_in_hours'] = (df['arr_time'] % 100 - df['dep_time'] % 100) / 60 + (df['arr_time'] // 100 - df['dep_time'] // 100)\n",
    "df.head()"
   ]
  },
  {
   "cell_type": "code",
   "execution_count": 69,
   "id": "cb31d788",
   "metadata": {},
   "outputs": [
    {
     "data": {
      "text/plain": [
       "-23.35"
      ]
     },
     "execution_count": 69,
     "metadata": {},
     "output_type": "execute_result"
    }
   ],
   "source": [
    "min(df['duration_in_hours'])"
   ]
  },
  {
   "cell_type": "code",
   "execution_count": 70,
   "id": "5dab8fd3",
   "metadata": {},
   "outputs": [
    {
     "data": {
      "text/html": [
       "<div>\n",
       "<style scoped>\n",
       "    .dataframe tbody tr th:only-of-type {\n",
       "        vertical-align: middle;\n",
       "    }\n",
       "\n",
       "    .dataframe tbody tr th {\n",
       "        vertical-align: top;\n",
       "    }\n",
       "\n",
       "    .dataframe thead th {\n",
       "        text-align: right;\n",
       "    }\n",
       "</style>\n",
       "<table border=\"1\" class=\"dataframe\">\n",
       "  <thead>\n",
       "    <tr style=\"text-align: right;\">\n",
       "      <th></th>\n",
       "      <th>year</th>\n",
       "      <th>month</th>\n",
       "      <th>day</th>\n",
       "      <th>dep_time</th>\n",
       "      <th>sched_dep_time</th>\n",
       "      <th>dep_delay</th>\n",
       "      <th>arr_time</th>\n",
       "      <th>sched_arr_time</th>\n",
       "      <th>arr_delay</th>\n",
       "      <th>carrier</th>\n",
       "      <th>flight</th>\n",
       "      <th>tailnum</th>\n",
       "      <th>origin</th>\n",
       "      <th>dest</th>\n",
       "      <th>air_time</th>\n",
       "      <th>distance</th>\n",
       "      <th>hour</th>\n",
       "      <th>minute</th>\n",
       "      <th>time_hour</th>\n",
       "      <th>duration_in_hours</th>\n",
       "    </tr>\n",
       "  </thead>\n",
       "  <tbody>\n",
       "    <tr>\n",
       "      <th>719</th>\n",
       "      <td>2013</td>\n",
       "      <td>1</td>\n",
       "      <td>1</td>\n",
       "      <td>1929.0</td>\n",
       "      <td>1920</td>\n",
       "      <td>9.0</td>\n",
       "      <td>3.0</td>\n",
       "      <td>7</td>\n",
       "      <td>-4.0</td>\n",
       "      <td>UA</td>\n",
       "      <td>1071</td>\n",
       "      <td>N27205</td>\n",
       "      <td>EWR</td>\n",
       "      <td>BQN</td>\n",
       "      <td>192.0</td>\n",
       "      <td>1585</td>\n",
       "      <td>19</td>\n",
       "      <td>20</td>\n",
       "      <td>2013-01-02T00:00:00Z</td>\n",
       "      <td>-19.433333</td>\n",
       "    </tr>\n",
       "    <tr>\n",
       "      <th>725</th>\n",
       "      <td>2013</td>\n",
       "      <td>1</td>\n",
       "      <td>1</td>\n",
       "      <td>1939.0</td>\n",
       "      <td>1840</td>\n",
       "      <td>59.0</td>\n",
       "      <td>29.0</td>\n",
       "      <td>2151</td>\n",
       "      <td>NaN</td>\n",
       "      <td>9E</td>\n",
       "      <td>3325</td>\n",
       "      <td>N905XJ</td>\n",
       "      <td>JFK</td>\n",
       "      <td>DFW</td>\n",
       "      <td>NaN</td>\n",
       "      <td>1391</td>\n",
       "      <td>18</td>\n",
       "      <td>40</td>\n",
       "      <td>2013-01-01T23:00:00Z</td>\n",
       "      <td>-19.166667</td>\n",
       "    </tr>\n",
       "    <tr>\n",
       "      <th>791</th>\n",
       "      <td>2013</td>\n",
       "      <td>1</td>\n",
       "      <td>1</td>\n",
       "      <td>2058.0</td>\n",
       "      <td>2100</td>\n",
       "      <td>-2.0</td>\n",
       "      <td>8.0</td>\n",
       "      <td>2359</td>\n",
       "      <td>9.0</td>\n",
       "      <td>UA</td>\n",
       "      <td>1241</td>\n",
       "      <td>N27724</td>\n",
       "      <td>EWR</td>\n",
       "      <td>TPA</td>\n",
       "      <td>159.0</td>\n",
       "      <td>997</td>\n",
       "      <td>21</td>\n",
       "      <td>0</td>\n",
       "      <td>2013-01-02T02:00:00Z</td>\n",
       "      <td>-20.833333</td>\n",
       "    </tr>\n",
       "    <tr>\n",
       "      <th>794</th>\n",
       "      <td>2013</td>\n",
       "      <td>1</td>\n",
       "      <td>1</td>\n",
       "      <td>2102.0</td>\n",
       "      <td>2108</td>\n",
       "      <td>-6.0</td>\n",
       "      <td>146.0</td>\n",
       "      <td>158</td>\n",
       "      <td>-12.0</td>\n",
       "      <td>UA</td>\n",
       "      <td>1180</td>\n",
       "      <td>N78511</td>\n",
       "      <td>EWR</td>\n",
       "      <td>SJU</td>\n",
       "      <td>199.0</td>\n",
       "      <td>1608</td>\n",
       "      <td>21</td>\n",
       "      <td>8</td>\n",
       "      <td>2013-01-02T02:00:00Z</td>\n",
       "      <td>-19.266667</td>\n",
       "    </tr>\n",
       "    <tr>\n",
       "      <th>797</th>\n",
       "      <td>2013</td>\n",
       "      <td>1</td>\n",
       "      <td>1</td>\n",
       "      <td>2108.0</td>\n",
       "      <td>2057</td>\n",
       "      <td>11.0</td>\n",
       "      <td>25.0</td>\n",
       "      <td>39</td>\n",
       "      <td>-14.0</td>\n",
       "      <td>UA</td>\n",
       "      <td>1517</td>\n",
       "      <td>N17245</td>\n",
       "      <td>EWR</td>\n",
       "      <td>SFO</td>\n",
       "      <td>354.0</td>\n",
       "      <td>2565</td>\n",
       "      <td>20</td>\n",
       "      <td>57</td>\n",
       "      <td>2013-01-02T01:00:00Z</td>\n",
       "      <td>-20.716667</td>\n",
       "    </tr>\n",
       "  </tbody>\n",
       "</table>\n",
       "</div>"
      ],
      "text/plain": [
       "     year  month  day  dep_time  sched_dep_time  dep_delay  arr_time  \\\n",
       "719  2013      1    1    1929.0            1920        9.0       3.0   \n",
       "725  2013      1    1    1939.0            1840       59.0      29.0   \n",
       "791  2013      1    1    2058.0            2100       -2.0       8.0   \n",
       "794  2013      1    1    2102.0            2108       -6.0     146.0   \n",
       "797  2013      1    1    2108.0            2057       11.0      25.0   \n",
       "\n",
       "     sched_arr_time  arr_delay carrier  flight tailnum origin dest  air_time  \\\n",
       "719               7       -4.0      UA    1071  N27205    EWR  BQN     192.0   \n",
       "725            2151        NaN      9E    3325  N905XJ    JFK  DFW       NaN   \n",
       "791            2359        9.0      UA    1241  N27724    EWR  TPA     159.0   \n",
       "794             158      -12.0      UA    1180  N78511    EWR  SJU     199.0   \n",
       "797              39      -14.0      UA    1517  N17245    EWR  SFO     354.0   \n",
       "\n",
       "     distance  hour  minute             time_hour  duration_in_hours  \n",
       "719      1585    19      20  2013-01-02T00:00:00Z         -19.433333  \n",
       "725      1391    18      40  2013-01-01T23:00:00Z         -19.166667  \n",
       "791       997    21       0  2013-01-02T02:00:00Z         -20.833333  \n",
       "794      1608    21       8  2013-01-02T02:00:00Z         -19.266667  \n",
       "797      2565    20      57  2013-01-02T01:00:00Z         -20.716667  "
      ]
     },
     "execution_count": 70,
     "metadata": {},
     "output_type": "execute_result"
    }
   ],
   "source": [
    "df[df['duration_in_hours'] < 0].head()"
   ]
  },
  {
   "cell_type": "markdown",
   "id": "167784d0",
   "metadata": {},
   "source": [
    "The minimum value of the duration I computed is -23.35.\n",
    "The reason is because there are some flights depart at late night and arrive on tmr's morning. The computation is not able to calculate the flights last from the first day to the next day."
   ]
  },
  {
   "cell_type": "code",
   "execution_count": 71,
   "id": "f8cd722f",
   "metadata": {},
   "outputs": [],
   "source": [
    "df_delay = df[['dep_delay','arr_delay']]"
   ]
  },
  {
   "cell_type": "code",
   "execution_count": 72,
   "id": "0288533d",
   "metadata": {},
   "outputs": [
    {
     "data": {
      "text/html": [
       "<div>\n",
       "<style scoped>\n",
       "    .dataframe tbody tr th:only-of-type {\n",
       "        vertical-align: middle;\n",
       "    }\n",
       "\n",
       "    .dataframe tbody tr th {\n",
       "        vertical-align: top;\n",
       "    }\n",
       "\n",
       "    .dataframe thead th {\n",
       "        text-align: right;\n",
       "    }\n",
       "</style>\n",
       "<table border=\"1\" class=\"dataframe\">\n",
       "  <thead>\n",
       "    <tr style=\"text-align: right;\">\n",
       "      <th></th>\n",
       "      <th>dep_delay</th>\n",
       "      <th>arr_delay</th>\n",
       "    </tr>\n",
       "  </thead>\n",
       "  <tbody>\n",
       "    <tr>\n",
       "      <th>299448</th>\n",
       "      <td>-7.0</td>\n",
       "      <td>-27.0</td>\n",
       "    </tr>\n",
       "    <tr>\n",
       "      <th>312630</th>\n",
       "      <td>-10.0</td>\n",
       "      <td>-15.0</td>\n",
       "    </tr>\n",
       "    <tr>\n",
       "      <th>21346</th>\n",
       "      <td>3.0</td>\n",
       "      <td>-16.0</td>\n",
       "    </tr>\n",
       "    <tr>\n",
       "      <th>134464</th>\n",
       "      <td>8.0</td>\n",
       "      <td>51.0</td>\n",
       "    </tr>\n",
       "    <tr>\n",
       "      <th>58809</th>\n",
       "      <td>-2.0</td>\n",
       "      <td>-3.0</td>\n",
       "    </tr>\n",
       "    <tr>\n",
       "      <th>148588</th>\n",
       "      <td>-4.0</td>\n",
       "      <td>18.0</td>\n",
       "    </tr>\n",
       "    <tr>\n",
       "      <th>144110</th>\n",
       "      <td>4.0</td>\n",
       "      <td>-12.0</td>\n",
       "    </tr>\n",
       "    <tr>\n",
       "      <th>56360</th>\n",
       "      <td>-5.0</td>\n",
       "      <td>-36.0</td>\n",
       "    </tr>\n",
       "    <tr>\n",
       "      <th>10036</th>\n",
       "      <td>-3.0</td>\n",
       "      <td>2.0</td>\n",
       "    </tr>\n",
       "    <tr>\n",
       "      <th>322761</th>\n",
       "      <td>-7.0</td>\n",
       "      <td>-18.0</td>\n",
       "    </tr>\n",
       "  </tbody>\n",
       "</table>\n",
       "</div>"
      ],
      "text/plain": [
       "        dep_delay  arr_delay\n",
       "299448       -7.0      -27.0\n",
       "312630      -10.0      -15.0\n",
       "21346         3.0      -16.0\n",
       "134464        8.0       51.0\n",
       "58809        -2.0       -3.0\n",
       "148588       -4.0       18.0\n",
       "144110        4.0      -12.0\n",
       "56360        -5.0      -36.0\n",
       "10036        -3.0        2.0\n",
       "322761       -7.0      -18.0"
      ]
     },
     "execution_count": 72,
     "metadata": {},
     "output_type": "execute_result"
    }
   ],
   "source": [
    "df_delay.sample(n = 10)"
   ]
  },
  {
   "cell_type": "code",
   "execution_count": 73,
   "id": "76ed9d42",
   "metadata": {},
   "outputs": [
    {
     "data": {
      "text/plain": [
       "dep_delay    float64\n",
       "arr_delay    float64\n",
       "dtype: object"
      ]
     },
     "execution_count": 73,
     "metadata": {},
     "output_type": "execute_result"
    }
   ],
   "source": [
    "df_delay.dtypes"
   ]
  },
  {
   "cell_type": "markdown",
   "id": "bc76461b",
   "metadata": {},
   "source": [
    "They are both float64 type"
   ]
  },
  {
   "cell_type": "code",
   "execution_count": 74,
   "id": "c9d5e562",
   "metadata": {},
   "outputs": [
    {
     "data": {
      "text/plain": [
       "35648"
      ]
     },
     "execution_count": 74,
     "metadata": {},
     "output_type": "execute_result"
    }
   ],
   "source": [
    "len(df_delay[(df_delay['dep_delay'] < 0) & (df_delay['arr_delay'] > 0)])"
   ]
  },
  {
   "cell_type": "markdown",
   "id": "4d1a804c",
   "metadata": {},
   "source": [
    "There are 35648 flights leave early but arrive late"
   ]
  },
  {
   "cell_type": "code",
   "execution_count": 75,
   "id": "b6812277",
   "metadata": {},
   "outputs": [
    {
     "data": {
      "text/plain": [
       "196.0"
      ]
     },
     "execution_count": 75,
     "metadata": {},
     "output_type": "execute_result"
    }
   ],
   "source": [
    "extra_delay = df_delay['arr_delay'] - df_delay['dep_delay']\n",
    "extra_delay.max()"
   ]
  },
  {
   "cell_type": "markdown",
   "id": "7a669e88",
   "metadata": {},
   "source": [
    "The longest “extra flight time” is 196."
   ]
  },
  {
   "cell_type": "code",
   "execution_count": 76,
   "id": "62b99ec0",
   "metadata": {},
   "outputs": [
    {
     "data": {
      "text/plain": [
       "133004"
      ]
     },
     "execution_count": 76,
     "metadata": {},
     "output_type": "execute_result"
    }
   ],
   "source": [
    "len(df_delay[df_delay['arr_delay'] > 0])"
   ]
  },
  {
   "cell_type": "markdown",
   "id": "c18c62b3",
   "metadata": {},
   "source": [
    "There are 133004 flights were delayed"
   ]
  },
  {
   "cell_type": "code",
   "execution_count": 77,
   "id": "5c791693",
   "metadata": {},
   "outputs": [
    {
     "data": {
      "text/plain": [
       "0.2305092999501152"
      ]
     },
     "execution_count": 77,
     "metadata": {},
     "output_type": "execute_result"
    }
   ],
   "source": [
    "len(df_delay[df_delay['arr_delay'] > 15])/len(df_delay)"
   ]
  },
  {
   "cell_type": "markdown",
   "id": "6dd45a15",
   "metadata": {},
   "source": [
    "There are 23.05% flights were delayed by more than 15 minutes"
   ]
  },
  {
   "cell_type": "code",
   "execution_count": null,
   "id": "6004131e",
   "metadata": {},
   "outputs": [],
   "source": []
  },
  {
   "cell_type": "code",
   "execution_count": null,
   "id": "7fc47881",
   "metadata": {},
   "outputs": [],
   "source": []
  }
 ],
 "metadata": {
  "kernelspec": {
   "display_name": "Python 3 (ipykernel)",
   "language": "python",
   "name": "python3"
  },
  "language_info": {
   "codemirror_mode": {
    "name": "ipython",
    "version": 3
   },
   "file_extension": ".py",
   "mimetype": "text/x-python",
   "name": "python",
   "nbconvert_exporter": "python",
   "pygments_lexer": "ipython3",
   "version": "3.8.13"
  }
 },
 "nbformat": 4,
 "nbformat_minor": 5
}
