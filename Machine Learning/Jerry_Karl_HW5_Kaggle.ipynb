{
  "nbformat": 4,
  "nbformat_minor": 0,
  "metadata": {
    "colab": {
      "provenance": [],
      "toc_visible": true
    },
    "kernelspec": {
      "name": "python3",
      "display_name": "Python 3"
    },
    "language_info": {
      "name": "python"
    }
  },
  "cells": [
    {
      "cell_type": "markdown",
      "source": [
        "# **Kaggle HW5: [Jerry.Y2003]**"
      ],
      "metadata": {
        "id": "mPZLxHG7N9mu"
      }
    },
    {
      "cell_type": "markdown",
      "source": [
        "**Remember to write your team name above, which MUST match your team name on Kaggle!!** Assignments without a team name will receive a 0/40 on the \"accuracy on test data\" component of this assignment's grade."
      ],
      "metadata": {
        "id": "lRZ0yjtqYELC"
      }
    },
    {
      "cell_type": "markdown",
      "source": [
        "### **Load the Data**"
      ],
      "metadata": {
        "id": "lwnjXjk4B41V"
      }
    },
    {
      "cell_type": "code",
      "metadata": {
        "id": "4WRff5x-3TYI"
      },
      "source": [
        "# This cell is necessary only if you are running on Google Colab. It downloads the files to your\n",
        "# Colab instance so you don't have to upload them here.\n",
        "\n",
        "import requests\n",
        "\n",
        "def save_file(url, file_name):\n",
        "    r = requests.get(url)\n",
        "    with open(file_name, 'wb') as f:\n",
        "      f.write(r.content)\n",
        "\n",
        "save_file('https://courses.cs.washington.edu/courses/cse416/23sp/homeworks/hw5/edx_train.csv', \n",
        "          'edx_train.csv')\n",
        "save_file('https://courses.cs.washington.edu/courses/cse416/23sp/homeworks/hw5/edx_test.csv', \n",
        "          'edx_test.csv')"
      ],
      "execution_count": 107,
      "outputs": []
    },
    {
      "cell_type": "markdown",
      "source": [
        "### **Sample Code: Random Classifier**\n",
        "\n",
        "**NOTE**: This classifier **DOES NOT** count as one of the 2 required for this assignment! It is merely here to illstrate how to submit your predictions.\n",
        "\n",
        "See the Kaggle assignment (Data tab) for a description of each column in the dataset. You are creating a classifier to predict whether or not a student will get certified, stored in the `\"certified\"` column."
      ],
      "metadata": {
        "id": "4RBuRNVKB_sa"
      }
    },
    {
      "cell_type": "code",
      "source": [
        "import pandas as pd\n",
        "from sklearn.dummy import DummyClassifier\n",
        "\n",
        "target = \"certified\" # target column\n",
        "\n",
        "# This classifier returns labels sampled uniformly at random\n",
        "df_train = pd.read_csv('edx_train.csv')\n",
        "dummy_model = DummyClassifier(strategy=\"uniform\")\n",
        "dummy_model.fit(df_train.drop(target, axis=1), df_train[target])"
      ],
      "metadata": {
        "id": "O_mvbzSAd5dU",
        "colab": {
          "base_uri": "https://localhost:8080/",
          "height": 74
        },
        "outputId": "4742d730-c598-4a61-e16a-8d079d11c7f7"
      },
      "execution_count": 108,
      "outputs": [
        {
          "output_type": "execute_result",
          "data": {
            "text/plain": [
              "DummyClassifier(strategy='uniform')"
            ],
            "text/html": [
              "<style>#sk-container-id-4 {color: black;background-color: white;}#sk-container-id-4 pre{padding: 0;}#sk-container-id-4 div.sk-toggleable {background-color: white;}#sk-container-id-4 label.sk-toggleable__label {cursor: pointer;display: block;width: 100%;margin-bottom: 0;padding: 0.3em;box-sizing: border-box;text-align: center;}#sk-container-id-4 label.sk-toggleable__label-arrow:before {content: \"▸\";float: left;margin-right: 0.25em;color: #696969;}#sk-container-id-4 label.sk-toggleable__label-arrow:hover:before {color: black;}#sk-container-id-4 div.sk-estimator:hover label.sk-toggleable__label-arrow:before {color: black;}#sk-container-id-4 div.sk-toggleable__content {max-height: 0;max-width: 0;overflow: hidden;text-align: left;background-color: #f0f8ff;}#sk-container-id-4 div.sk-toggleable__content pre {margin: 0.2em;color: black;border-radius: 0.25em;background-color: #f0f8ff;}#sk-container-id-4 input.sk-toggleable__control:checked~div.sk-toggleable__content {max-height: 200px;max-width: 100%;overflow: auto;}#sk-container-id-4 input.sk-toggleable__control:checked~label.sk-toggleable__label-arrow:before {content: \"▾\";}#sk-container-id-4 div.sk-estimator input.sk-toggleable__control:checked~label.sk-toggleable__label {background-color: #d4ebff;}#sk-container-id-4 div.sk-label input.sk-toggleable__control:checked~label.sk-toggleable__label {background-color: #d4ebff;}#sk-container-id-4 input.sk-hidden--visually {border: 0;clip: rect(1px 1px 1px 1px);clip: rect(1px, 1px, 1px, 1px);height: 1px;margin: -1px;overflow: hidden;padding: 0;position: absolute;width: 1px;}#sk-container-id-4 div.sk-estimator {font-family: monospace;background-color: #f0f8ff;border: 1px dotted black;border-radius: 0.25em;box-sizing: border-box;margin-bottom: 0.5em;}#sk-container-id-4 div.sk-estimator:hover {background-color: #d4ebff;}#sk-container-id-4 div.sk-parallel-item::after {content: \"\";width: 100%;border-bottom: 1px solid gray;flex-grow: 1;}#sk-container-id-4 div.sk-label:hover label.sk-toggleable__label {background-color: #d4ebff;}#sk-container-id-4 div.sk-serial::before {content: \"\";position: absolute;border-left: 1px solid gray;box-sizing: border-box;top: 0;bottom: 0;left: 50%;z-index: 0;}#sk-container-id-4 div.sk-serial {display: flex;flex-direction: column;align-items: center;background-color: white;padding-right: 0.2em;padding-left: 0.2em;position: relative;}#sk-container-id-4 div.sk-item {position: relative;z-index: 1;}#sk-container-id-4 div.sk-parallel {display: flex;align-items: stretch;justify-content: center;background-color: white;position: relative;}#sk-container-id-4 div.sk-item::before, #sk-container-id-4 div.sk-parallel-item::before {content: \"\";position: absolute;border-left: 1px solid gray;box-sizing: border-box;top: 0;bottom: 0;left: 50%;z-index: -1;}#sk-container-id-4 div.sk-parallel-item {display: flex;flex-direction: column;z-index: 1;position: relative;background-color: white;}#sk-container-id-4 div.sk-parallel-item:first-child::after {align-self: flex-end;width: 50%;}#sk-container-id-4 div.sk-parallel-item:last-child::after {align-self: flex-start;width: 50%;}#sk-container-id-4 div.sk-parallel-item:only-child::after {width: 0;}#sk-container-id-4 div.sk-dashed-wrapped {border: 1px dashed gray;margin: 0 0.4em 0.5em 0.4em;box-sizing: border-box;padding-bottom: 0.4em;background-color: white;}#sk-container-id-4 div.sk-label label {font-family: monospace;font-weight: bold;display: inline-block;line-height: 1.2em;}#sk-container-id-4 div.sk-label-container {text-align: center;}#sk-container-id-4 div.sk-container {/* jupyter's `normalize.less` sets `[hidden] { display: none; }` but bootstrap.min.css set `[hidden] { display: none !important; }` so we also need the `!important` here to be able to override the default hidden behavior on the sphinx rendered scikit-learn.org. See: https://github.com/scikit-learn/scikit-learn/issues/21755 */display: inline-block !important;position: relative;}#sk-container-id-4 div.sk-text-repr-fallback {display: none;}</style><div id=\"sk-container-id-4\" class=\"sk-top-container\"><div class=\"sk-text-repr-fallback\"><pre>DummyClassifier(strategy=&#x27;uniform&#x27;)</pre><b>In a Jupyter environment, please rerun this cell to show the HTML representation or trust the notebook. <br />On GitHub, the HTML representation is unable to render, please try loading this page with nbviewer.org.</b></div><div class=\"sk-container\" hidden><div class=\"sk-item\"><div class=\"sk-estimator sk-toggleable\"><input class=\"sk-toggleable__control sk-hidden--visually\" id=\"sk-estimator-id-4\" type=\"checkbox\" checked><label for=\"sk-estimator-id-4\" class=\"sk-toggleable__label sk-toggleable__label-arrow\">DummyClassifier</label><div class=\"sk-toggleable__content\"><pre>DummyClassifier(strategy=&#x27;uniform&#x27;)</pre></div></div></div></div></div>"
            ]
          },
          "metadata": {},
          "execution_count": 108
        }
      ]
    },
    {
      "cell_type": "markdown",
      "source": [
        "The code below generates predictions on the test set, and outputs the predictions into a CSV file."
      ],
      "metadata": {
        "id": "F3pMT8VlEk15"
      }
    },
    {
      "cell_type": "code",
      "source": [
        "# Generate predictions on the test set\n",
        "df_test = pd.read_csv('edx_test.csv')\n",
        "predictions = dummy_model.predict(df_test)\n",
        "\n",
        "# Save your predictions as a CSV\n",
        "to_save = df_test[['userid_DI']].copy()\n",
        "to_save.loc[:, 'certified'] = predictions\n",
        "to_save.to_csv('submission.csv', index=False)\n",
        "\n",
        "# See below for instructions on how to upload submission.csv to Kaggle,\n",
        "# in order to evaluate your model and get points."
      ],
      "metadata": {
        "id": "W1vMUKAVeDWK"
      },
      "execution_count": 109,
      "outputs": []
    },
    {
      "cell_type": "markdown",
      "source": [
        "### **[5 Pts] Model Comparison**\n",
        "\n",
        "**Instructions**: Run at least 2 different classification models. The classification models we have learned in class are: [Logistic Regression](https://scikit-learn.org/stable/modules/generated/sklearn.linear_model.LogisticRegression.html), [k-Nearest Neighbors](https://scikit-learn.org/stable/modules/generated/sklearn.neighbors.KNeighborsClassifier.html), [Decision Trees](https://scikit-learn.org/stable/modules/generated/sklearn.tree.DecisionTreeClassifier.html), [Random Forests](https://scikit-learn.org/stable/modules/generated/sklearn.ensemble.RandomForestClassifier.html), and [AdaBoost](https://scikit-learn.org/stable/modules/generated/sklearn.ensemble.AdaBoostClassifier.html), [Neural Networks](https://scikit-learn.org/stable/modules/neural_networks_supervised.html). For each model, try at least 2 different hyperparameter settings. \n",
        "\n",
        "Then, make one or more visualizations that let you compare the models you trained. Sample visualizations you can make include confusion matrices, or graphs of train and validation accuracy/error. See past section and homework code for how to make these visualizations."
      ],
      "metadata": {
        "id": "r4Sv5DRBOJ_Q"
      }
    },
    {
      "cell_type": "code",
      "source": [
        "# pre-processing\n",
        "\n",
        "df_train.info()"
      ],
      "metadata": {
        "colab": {
          "base_uri": "https://localhost:8080/"
        },
        "id": "E2ZfiMsTPwu5",
        "outputId": "abe4ae31-ccc0-4254-e463-4c1f534a1a86"
      },
      "execution_count": 110,
      "outputs": [
        {
          "output_type": "stream",
          "name": "stdout",
          "text": [
            "<class 'pandas.core.frame.DataFrame'>\n",
            "RangeIndex: 8758 entries, 0 to 8757\n",
            "Data columns (total 17 columns):\n",
            " #   Column             Non-Null Count  Dtype  \n",
            "---  ------             --------------  -----  \n",
            " 0   course_id          8758 non-null   object \n",
            " 1   userid_DI          8758 non-null   object \n",
            " 2   registered         8758 non-null   int64  \n",
            " 3   viewed             8758 non-null   int64  \n",
            " 4   explored           8758 non-null   int64  \n",
            " 5   certified          8758 non-null   int64  \n",
            " 6   final_cc_cname_DI  8758 non-null   object \n",
            " 7   LoE_DI             7792 non-null   object \n",
            " 8   YoB                7844 non-null   float64\n",
            " 9   gender             7983 non-null   object \n",
            " 10  start_time_DI      8758 non-null   object \n",
            " 11  last_event_DI      7250 non-null   object \n",
            " 12  nevents            7119 non-null   float64\n",
            " 13  ndays_act          7119 non-null   float64\n",
            " 14  nplay_video        2011 non-null   float64\n",
            " 15  nchapters          6195 non-null   float64\n",
            " 16  nforum_posts       8758 non-null   int64  \n",
            "dtypes: float64(5), int64(5), object(7)\n",
            "memory usage: 1.1+ MB\n"
          ]
        }
      ]
    },
    {
      "cell_type": "code",
      "source": [
        "from sklearn.tree import DecisionTreeClassifier\n",
        "\n",
        "df_train = pd.read_csv('edx_train.csv')\n",
        "\n",
        "target = \"certified\"\n",
        "\n",
        "df_train = pd.get_dummies(df_train, columns=['gender'])\n",
        "features = ['registered', 'viewed', 'explored', 'YoB', 'nevents', 'ndays_act', 'nplay_video', 'nchapters', 'nforum_posts', 'gender_f', 'gender_m']\n",
        "\n",
        "df_train = df_train.fillna(df_train.mean())\n",
        "\n",
        "decision_tree_model = DecisionTreeClassifier(max_depth = 6).fit(df_train[features], df_train[target])\n",
        "decision_tree_model4 = DecisionTreeClassifier(max_depth = 4).fit(df_train[features], df_train[target])\n",
        "\n",
        "# Generate predictions on the test set\n",
        "df_test = pd.read_csv('edx_test.csv')\n",
        "df_test = pd.get_dummies(df_test, columns=['gender'])\n",
        "df_test = df_test.fillna(df_test.mean())\n",
        "predictions = decision_tree_model.predict(df_test[features])\n",
        "\n",
        "# Save your predictions as a CSV\n",
        "to_save = df_test[['userid_DI']].copy()\n",
        "to_save.loc[:, 'certified'] = predictions\n",
        "to_save.to_csv('submission.csv', index=False)"
      ],
      "metadata": {
        "colab": {
          "base_uri": "https://localhost:8080/"
        },
        "id": "NpS8Xg9KkS5g",
        "outputId": "b32c38a1-94f5-482b-c875-d7f6119660f0"
      },
      "execution_count": 111,
      "outputs": [
        {
          "output_type": "stream",
          "name": "stderr",
          "text": [
            "<ipython-input-111-66e24971bb69>:10: FutureWarning: The default value of numeric_only in DataFrame.mean is deprecated. In a future version, it will default to False. In addition, specifying 'numeric_only=None' is deprecated. Select only valid columns or specify the value of numeric_only to silence this warning.\n",
            "  df_train = df_train.fillna(df_train.mean())\n",
            "<ipython-input-111-66e24971bb69>:18: FutureWarning: The default value of numeric_only in DataFrame.mean is deprecated. In a future version, it will default to False. In addition, specifying 'numeric_only=None' is deprecated. Select only valid columns or specify the value of numeric_only to silence this warning.\n",
            "  df_test = df_test.fillna(df_test.mean())\n"
          ]
        }
      ]
    },
    {
      "cell_type": "code",
      "source": [
        "import matplotlib.pyplot as plt\n",
        "from sklearn.metrics import confusion_matrix\n",
        "\n",
        "conf_matrix_dt1 = confusion_matrix(df_train[target], decision_tree_model.predict(df_train[features]))\n",
        "conf_matrix_dt2 = confusion_matrix(df_train[target], decision_tree_model4.predict(df_train[features]))\n",
        "\n",
        "fig, axes = plt.subplots(1, 2, figsize=(10, 4))\n",
        "\n",
        "for i in range(conf_matrix_dt1.shape[0]):\n",
        "    for j in range(conf_matrix_dt1.shape[1]):\n",
        "        axes[0].text(j, i, str(conf_matrix_dt1[i, j]), ha='center', va='center', color='black')\n",
        "\n",
        "\n",
        "for i in range(conf_matrix_dt2.shape[0]):\n",
        "    for j in range(conf_matrix_dt2.shape[1]):\n",
        "        axes[1].text(j, i, str(conf_matrix_dt2[i, j]), ha='center', va='center', color='black')\n",
        "\n",
        "\n",
        "axes[0].imshow(conf_matrix_dt1, cmap='Blues', interpolation='nearest')\n",
        "axes[0].set_title('Decision Tree Confusion Matrix max depth 6')\n",
        "axes[0].set_xlabel('Predicted Labels')\n",
        "axes[0].set_ylabel('True Labels')\n",
        "\n",
        "axes[1].imshow(conf_matrix_dt2, cmap='Blues', interpolation='nearest')\n",
        "axes[1].set_title('Decision Tree Confusion Matrix max depth 4')\n",
        "axes[1].set_xlabel('Predicted Labels')\n",
        "axes[1].set_ylabel('True Labels')\n",
        "\n",
        "\n",
        "plt.show()"
      ],
      "metadata": {
        "colab": {
          "base_uri": "https://localhost:8080/",
          "height": 410
        },
        "id": "1NhCCSoPQIV_",
        "outputId": "52390170-e258-4d3c-cbd2-75d47b546db4"
      },
      "execution_count": 112,
      "outputs": [
        {
          "output_type": "display_data",
          "data": {
            "text/plain": [
              "<Figure size 1000x400 with 2 Axes>"
            ],
            "image/png": "[encoded data removed]"
          },
          "metadata": {}
        }
      ]
    },
    {
      "cell_type": "code",
      "source": [
        "from sklearn.ensemble import RandomForestClassifier\n",
        "\n",
        "df_train = pd.read_csv('edx_train.csv')\n",
        "\n",
        "target = \"certified\"\n",
        "\n",
        "df_train = pd.get_dummies(df_train, columns=['gender'])\n",
        "features = ['registered', 'viewed', 'explored', 'YoB', 'nevents', 'ndays_act', 'nplay_video', 'nchapters', 'nforum_posts', 'gender_f', 'gender_m']\n",
        "\n",
        "df_train = df_train.fillna(df_train.mean())\n",
        "\n",
        "RF_model = RandomForestClassifier(max_depth=2, random_state=0).fit(df_train[features], df_train[target])\n",
        "RF_model4 = RandomForestClassifier(max_depth=4, random_state=0).fit(df_train[features], df_train[target])\n"
      ],
      "metadata": {
        "id": "vkv-HyG4PRjR",
        "colab": {
          "base_uri": "https://localhost:8080/"
        },
        "outputId": "0b48830d-bc53-4f18-cc9c-e92c7c7d40d5"
      },
      "execution_count": 113,
      "outputs": [
        {
          "output_type": "stream",
          "name": "stderr",
          "text": [
            "<ipython-input-113-1cc812ae9543>:10: FutureWarning: The default value of numeric_only in DataFrame.mean is deprecated. In a future version, it will default to False. In addition, specifying 'numeric_only=None' is deprecated. Select only valid columns or specify the value of numeric_only to silence this warning.\n",
            "  df_train = df_train.fillna(df_train.mean())\n"
          ]
        }
      ]
    },
    {
      "cell_type": "code",
      "source": [
        "import matplotlib.pyplot as plt\n",
        "from sklearn.metrics import confusion_matrix\n",
        "\n",
        "conf_matrix_rf1 = confusion_matrix(df_train[target], RF_model.predict(df_train[features]))\n",
        "conf_matrix_rf2 = confusion_matrix(df_train[target], RF_model4.predict(df_train[features]))\n",
        "\n",
        "fig, axes = plt.subplots(1, 2, figsize=(10, 4))\n",
        "\n",
        "for i in range(conf_matrix_rf1.shape[0]):\n",
        "    for j in range(conf_matrix_rf1.shape[1]):\n",
        "        axes[0].text(j, i, str(conf_matrix_rf1[i, j]), ha='center', va='center', color='black')\n",
        "\n",
        "\n",
        "for i in range(conf_matrix_rf2.shape[0]):\n",
        "    for j in range(conf_matrix_rf2.shape[1]):\n",
        "        axes[1].text(j, i, str(conf_matrix_rf2[i, j]), ha='center', va='center', color='black')\n",
        "\n",
        "\n",
        "axes[0].imshow(conf_matrix_rf1, cmap='Reds', interpolation='nearest')\n",
        "axes[0].set_title('Random Forest Confusion Matrix max depth 2')\n",
        "axes[0].set_xlabel('Predicted Labels')\n",
        "axes[0].set_ylabel('True Labels')\n",
        "\n",
        "axes[1].imshow(conf_matrix_rf2, cmap='Reds', interpolation='nearest')\n",
        "axes[1].set_title('Random Forest Confusion Matrix max depth 4')\n",
        "axes[1].set_xlabel('Predicted Labels')\n",
        "axes[1].set_ylabel('True Labels')\n",
        "\n",
        "\n",
        "plt.show()"
      ],
      "metadata": {
        "colab": {
          "base_uri": "https://localhost:8080/",
          "height": 410
        },
        "id": "Rv-rcp2tTKPm",
        "outputId": "3a8a2134-291c-4b2a-d466-9f0362823a65"
      },
      "execution_count": 115,
      "outputs": [
        {
          "output_type": "display_data",
          "data": {
            "text/plain": [
              "<Figure size 1000x400 with 2 Axes>"
            ],
            "image/png": "[encoded data removed]"
          },
          "metadata": {}
        }
      ]
    },
    {
      "cell_type": "markdown",
      "source": [
        "**Remember to submit your submissions CSV FILE on Kaggle!** 40 pts come from your accuracy on the private test data.\n",
        "\n",
        "Attend section on Thurs 5/11 for a demo of how to uppload submissions to Kaggle. We also have screenshots below (ingore summer and homework number in pictures)\n",
        "\n",
        "Step 1: See the list of files on Colab\n",
        "\n",
        "![See Colab Files](https://courses.cs.washington.edu/courses/cse416/22su/homework/hw4/programming/1_colab_see_files.jpg)\n",
        "\n",
        "Step 2: Download `submission.csv`\n",
        "\n",
        "![Download Colab File](https://courses.cs.washington.edu/courses/cse416/22su/homework/hw4/programming/2_colab_download_file.jpg)\n",
        "\n",
        "Step 3: Join the Kaggle competition.\n",
        "\n",
        "![Join the Kaggle Competition](https://courses.cs.washington.edu/courses/cse416/22su/homework/hw4/programming/3_kaggle_join_competition.jpg)\n",
        "\n",
        "Step 4: Enusre your team name in Kaggle matches the one at the top of this notebook! \n",
        "\n",
        "![Check Team Name](https://courses.cs.washington.edu/courses/cse416/22su/homework/hw4/programming/4_kaggle_team_name.jpg)\n",
        "\n",
        "Step 5: Upload `submission.csv` to Kaggle\n",
        "\n",
        "![Upload submission.csv](https://courses.cs.washington.edu/courses/cse416/22su/homework/hw4/programming/6_kaggle_upload_submission.jpg)\n",
        "\n"
      ],
      "metadata": {
        "id": "xz_Yk6BDXk1H"
      }
    },
    {
      "cell_type": "markdown",
      "source": [
        "### **Discussion**\n",
        "\n"
      ],
      "metadata": {
        "id": "aOwxTjy3OPh6"
      }
    },
    {
      "cell_type": "markdown",
      "source": [
        "#### **[7 Pts] Training the Models**\n",
        "\n",
        "**Instructions**: Discuss what models you tried, and what you did to improve your initial predictions. Discuss what hyperparameters you tried, and which hyperparameters seemed important for your final model. Finally, discuss what you are inferring from the above visualiation(s)."
      ],
      "metadata": {
        "id": "W8wZm-0cOe6U"
      }
    },
    {
      "cell_type": "markdown",
      "source": [
        "The model we tried are Decision tree and Random forest. We tried 4 and 6 max depth and 2 and 4 for them. The biggest improvement we made for my model is about selecting useful columns and dealing with Nan. The small changes of depth arent having a big effect on the model performance except if we changed it a lot different. The confusion matrix shows the performance of the models are pretty good. We can see there is a high accuracy in each of four matrixs for different models and parameters, although this confusion matrix only shows the training error, the test on Kaggle shows they are not overfitting with a score of aboving 0.97"
      ],
      "metadata": {
        "id": "1QFdF3wSXLgd"
      }
    },
    {
      "cell_type": "markdown",
      "source": [
        "#### **[3 Pts] Feature Selection**\n",
        "\n",
        "**Instructions**: Discuss what features you used and whether you did some transformations on them. What features seemed important for your final model?"
      ],
      "metadata": {
        "id": "4uCjBLL1Ow-Q"
      }
    },
    {
      "cell_type": "markdown",
      "source": [
        "We used all of the numerical features, and only used gender by transforming them to numerical values. We also have the Nan value as the mean of the column. We think most of the numerical features are important, showing the activeness of the students, which leads them to get a certification."
      ],
      "metadata": {
        "id": "oOGdC9EGXKst"
      }
    },
    {
      "cell_type": "markdown",
      "source": [
        "#### **[5 Pts] Ethical Implications**\n",
        "\n",
        "**Instructions**: Consider and discuss the ethical implications of using the model you trained. Imagine you were hired to work as a data scientist for an online education platform (exciting, right?). They want to use your model to predict which students they should tailor their course material towards so they can maximize their profits. Their idea is to use the model to help predict which student groups (i.e. from specific countries or certain educational backgrounds) would make them the most money by getting the most participants to complete their paid certificate program. Are there any ethical considerations we should think about before acting on that plan?"
      ],
      "metadata": {
        "id": "nbodmlrhPCJv"
      }
    },
    {
      "cell_type": "markdown",
      "source": [
        "We think the biggest ethical problem with this action is that if they focused on tailor their course to certain group of students, it may neglect students who belongs to other groups but indeed need these products or courses. We believe this goes against the fairness of education."
      ],
      "metadata": {
        "id": "w3WVhDKSXMAt"
      }
    }
  ]
}